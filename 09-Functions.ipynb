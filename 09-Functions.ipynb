{
 "cells": [
  {
   "cell_type": "markdown",
   "metadata": {},
   "source": [
    "# Lesson 9 - Functions\n",
    "\n",
    "Finally, we get to the topic that makes a programmer a programmer: functions! Up to now, every single bit of code that \n",
    "we've written has been its own program. This has its place, in fact it's often used (conceptually) in scripting - \n",
    "making short programs that perform some specific task - but in most cases it isn't terribly useful. More often, we want \n",
    "to break up our program into more-readable chunks that are easier to maintain and reduce the amount of code that \n",
    "we're writing multiple times."
   ]
  },
  {
   "cell_type": "markdown",
   "metadata": {},
   "source": [
    "### Introduction\n",
    "\n",
    "In a nutshell, functions allow you to take a chunk of code, or rather, a *block*, and wrap it up so you can call it \n",
    "multiple times. If this sounds somewhat familiar, and you're thinking of loops, you're not wrong. Loops are somewhat related, \n",
    "but conceptually serve a different purpose. What they share is the bundling of code so that it can be repeated. \n",
    "Where they differ is that functions create their own little environment that's separate from the outside world. Also, \n",
    "functions don't implicitly repeat the code they contain.\n",
    "\n",
    "The syntax for declaring a function is as follows:\n",
    "\n",
    "```\n",
    "def <function-name>(<parameter-list>):\n",
    "    # Your code goes here...\n",
    "    # Don't forget the indentation\n",
    "```\n",
    "\n",
    "Here, `function-name` follows the same rules as variables. `parameter-list` is an optional, comma-separated list of \n",
    "names that you can use in the function. The parameter list is similar to declaring a group of variables that can \n",
    "only be used inside the function. We'll specifically cover that more later.\n",
    "\n",
    "Any code you write inside the function will be run any time you call that specific function.\n",
    "Here's a first example, using the traditional \"Hello, world!\" template."
   ]
  },
  {
   "cell_type": "code",
   "execution_count": null,
   "metadata": {},
   "outputs": [],
   "source": [
    "def hello():\n",
    "    print(\"Hello, world!\")"
   ]
  },
  {
   "cell_type": "markdown",
   "metadata": {},
   "source": [
    "Okay, that was anticlimactic. It didn't do anything! \n",
    "\n",
    "But it's not supposed to. All we did here was define the function. You'll notice that any time the topic of functions \n",
    "has come up at any point, we've usually mentioned \"calling\" the function. What this means is invoking the function's \n",
    "name in a certain way so as to run the code it contains. Simply defining a function doesn't automatically run the \n",
    "code it contains. Instead, we have to call it by putting parentheses (`()`) after it, like this:"
   ]
  },
  {
   "cell_type": "code",
   "execution_count": null,
   "metadata": {},
   "outputs": [],
   "source": [
    "hello()"
   ]
  },
  {
   "cell_type": "markdown",
   "metadata": {},
   "source": [
    "That's better! And we can do it again!"
   ]
  },
  {
   "cell_type": "code",
   "execution_count": null,
   "metadata": {},
   "outputs": [],
   "source": [
    "hello()"
   ]
  },
  {
   "cell_type": "markdown",
   "metadata": {},
   "source": [
    "You can see it does the same thing every time, but we didn't need to completely rerun our program to have it run again. In \n",
    "fact, just to illustrate that point, let's call it some more!"
   ]
  },
  {
   "cell_type": "code",
   "execution_count": null,
   "metadata": {},
   "outputs": [],
   "source": [
    "hello()\n",
    "hello()\n",
    "hello()\n",
    "hello()"
   ]
  },
  {
   "cell_type": "markdown",
   "metadata": {},
   "source": [
    "We can even call it multiple times in the same program!\n",
    "\n",
    "Now, let's break down exactly what's happening here, specifically, what happens when you call a function. When you write \n",
    "a function's name, followed by parentheses, it calls that function (think `len`, `range` and `enumerate`), which runs \n",
    "the code that's in the function's definition. When we defined `hello`, we gave it a definition of `print(\"Hello, world!\").\n",
    "Now, every time we call it, it runs that code, and prints out \"Hello, world!\"."
   ]
  },
  {
   "cell_type": "markdown",
   "metadata": {},
   "source": [
    "### Parameters\n",
    "\n",
    "So far, the function we've seen only does one thing. It does that one thing *really* well, but if you want it to print \n",
    "something other than \"Hello, world!\", you're out of luck. What if we wanted to make a general greeting function, instead \n",
    "of something that only greets the world? This is where parameters come in.\n",
    "\n",
    "Function parameters are a way to pass values from outside of a function into the function, so it can access them. \n",
    "The way it does this is by (more or less) creating a new variable that contains the value passed in. Here's a version of \n",
    "the hello function, but now it greets the name you pass into the function."
   ]
  },
  {
   "cell_type": "code",
   "execution_count": null,
   "metadata": {},
   "outputs": [],
   "source": [
    "def hello_name(person):\n",
    "    print(\"Hello, {}!\".format(person))"
   ]
  },
  {
   "cell_type": "markdown",
   "metadata": {},
   "source": [
    "Now, let's no forget to call out new function. "
   ]
  },
  {
   "cell_type": "code",
   "execution_count": null,
   "metadata": {},
   "outputs": [],
   "source": [
    "hello_name(\"Daryl\")\n",
    "\n",
    "# call it a few more times for good measure\n",
    "hello_name(\"Fatima\")\n",
    "hello_name(\"Johan\")"
   ]
  },
  {
   "cell_type": "markdown",
   "metadata": {},
   "source": [
    "We can see here that by calling the new function, passing in a value to it each time changes the behaviour. However, \n",
    "it changes the behaviour in a way that's like we're assigning the value we passed in to `person` (because we basically\n",
    "are, just without the `=`)."
   ]
  },
  {
   "cell_type": "markdown",
   "metadata": {},
   "source": [
    "#### Multiple Parameters\n",
    "\n",
    "We've talked about functions that only take a single parameter. This is perfectly viable as a programming technique \n",
    "(there are several languages that technically only do this), but it's not very convenient for daily use. When we \n",
    "need to pass in multiple values to a function, it's as simple as defining the function with multiple parameters.\n",
    "\n",
    "Let's expand out hello function to work in \"multiple languages\"."
   ]
  },
  {
   "cell_type": "code",
   "execution_count": null,
   "metadata": {},
   "outputs": [],
   "source": [
    "def hello_lang(greeting, name):\n",
    "    print(\"{}, {}!\".format(greeting, name))\n",
    "\n",
    "hello_lang(\"Ciao\", \"Paula\")\n",
    "hello_lang(\"今日は\", \"桜\")\n",
    "hello_lang(\"Goddag\", \"Hans\")"
   ]
  },
  {
   "cell_type": "markdown",
   "metadata": {},
   "source": [
    "Here we see that we can create and use multiple parameters, as long as we separate them by commas. \n",
    "\n",
    "It's important to note that when we call a function, we can't use more or less parameters than what we say our \n",
    "function is going to take. For example, if we define our function with 2 parameters, we can't use 1 or 3, we have \n",
    "to use exactly 2 (this isn't strictly true, but the truth is a little too complicated for now). If you try to do \n",
    "this, Python will complain and throw an error."
   ]
  },
  {
   "cell_type": "markdown",
   "metadata": {},
   "source": [
    "### Returning Values\n",
    "\n",
    "The functions we've looked at so far haven't done much aside from print out messages. Increasingly sophisticated messages, \n",
    "but the only result they've had was printing. We can't interact with printing in any way in our code, so, for example, a \n",
    "function that adds two numbers could only print the result, even if we wanted to use the result in another calculation.\n",
    "\n",
    "Here, we can use the last major facet of functions, *returning*. Before, we passed in values to a function by giving them \n",
    "to that function as parameters. Now, we can get a value back out of a function by returning it. To do this, we use the \n",
    "`return` keyword, followed by whatever value we want to return. Then, when we call that function, we can treat the function \n",
    "call as though it is that value, the same way we treat variables as though they are direct values. For example, here's the \n",
    "aforementioned adding function."
   ]
  },
  {
   "cell_type": "code",
   "execution_count": 1,
   "metadata": {},
   "outputs": [
    {
     "name": "stdout",
     "output_type": "stream",
     "text": [
      "3\n",
      "13.5\n",
      "foobar\n"
     ]
    }
   ],
   "source": [
    "def add(num1, num2):\n",
    "    # The value after the `return` can be any expression we like, like a variable, \n",
    "    # a calculation, or even another function call.\n",
    "    return num1 + num2\n",
    "\n",
    "print(add(1,2)) # == 3\n",
    "print(add(4.5, 9)) # == 13.5\n",
    "# since Python types are dynamic, we can use any value that works with `+`\n",
    "# (even if it isn't necessarily clear that it should work from the function name)\n",
    "print(add(\"foo\", \"bar\"))"
   ]
  },
  {
   "cell_type": "markdown",
   "metadata": {},
   "source": [
    "One important thing to note is that we can only return a single value from a function (as opposed to a group), so when \n",
    "you're writing your functions, you need to make sure you're only trying to get a single result out. Technically, you \n",
    "can return more, but that requires some concepts that we won't be covering in these lessons. If you're curious how to \n",
    "do this, I encourage you to do your own research."
   ]
  },
  {
   "cell_type": "markdown",
   "metadata": {},
   "source": [
    "### Recursion\n",
    "\n",
    "Earlier, when we talked about calling functions, we didn't mention any restrictions on where we could call them.\n",
    "While there are common-sense restrictions (e.g. you can't call a function in the parameter definition of another \n",
    "function (you kind of can, but we won't go there)), you can basically call a function anywhere you would expect \n",
    "some kind of expression, including inside of other functions. And again, since there's no restriction mentioned here, \n",
    "that means a function can be called inside of itself!\n",
    "\n",
    "The concept of a function be called inside its own definition is called `recursion`, and while it's generally most \n",
    "useful in mathematical contexts, it's a useful tool to have in your belt. Here's a basic example of recursion, just \n",
    "to illustrate the idea."
   ]
  },
  {
   "cell_type": "code",
   "execution_count": 2,
   "metadata": {},
   "outputs": [
    {
     "name": "stdout",
     "output_type": "stream",
     "text": [
      "120\n"
     ]
    }
   ],
   "source": [
    "# factorial function, giving the product of every number from 1 to `num`\n",
    "def factorial(num):\n",
    "    if num <= 1:\n",
    "        return 1\n",
    "    return num * factorial(num - 1)\n",
    "\n",
    "print(factorial(5))"
   ]
  },
  {
   "cell_type": "markdown",
   "metadata": {},
   "source": [
    "If you look at what the code does, you can see that it kind of looks like it's looping... because it is! \n",
    "Recursion is identical to the concept of loops, and any idea you can express with a loop can be \n",
    "expressed with recursion.\n",
    "\n",
    "The most important part of recursion is the terminating condition. This tells the recursion when to actually \n",
    "stop and is recursion's equivalent of the loop condition. For recursion, this usually takes the form of an `if` \n",
    "statement that has a `return` statement. This `return` statement usually reflects the *base case* of the \n",
    "recursion, or the state of the problem where it's defined to stop. For the factorial example, it's 1, since \n",
    "the factorial of anything less doesn't make sense, and the factorial of 1 is simple and known, so we can stop \n",
    "at that point.\n",
    "\n",
    "We won't talk any more about recursion here, but it's an interesting topic and a very useful tool for solving \n",
    "problems, sometimes in unexpected ways."
   ]
  },
  {
   "cell_type": "markdown",
   "metadata": {},
   "source": [
    "### A Note on Naming: Scope\n",
    "\n",
    "So far, when we've created a variable, you'll notice that we've generally used a new name for new variables, \n",
    "not reusing old names, outside of iteration variables that don't have significant meaning outside of the loop \n",
    "it's used for. This is because all of these variables so far have been in the same *scope*. A scope generally \n",
    "refers to a collection of names in a specific context. Thus far, we've only been using a single scope: the \n",
    "*top-level* scope. That is, our variables have been declared without any qualifiers about where they're at. This \n",
    "works differently for functions.\n",
    "\n",
    "Functions introduce a new scope, which is separate from the scope the function is declared in. This means that \n",
    "any new names declared within the scope of the function are separate from the scope outside the function. \n",
    "However, the outer scope is still visible to the inner scope. You can use this to make *closures*, or functions \n",
    "that take a value from an outer scope and do something with it (they're so much more sophisticated than this, but \n",
    "that goes far beyond the scope (pun somewhat intended) of these lessons). \n",
    "\n",
    "Additionally, a scope ends at the end of code block it belongs to. That is, a function's scope ends at the end \n",
    "of that function's declaration. What this implies is that any names declared in a scope are not available to \n",
    "any higher-level scopes. In effect, any variables declared inside a function aren't available outside that function.\n",
    "This also implies that every function has its own scope, separate from all other functions. This is extremely \n",
    "useful for safely isolating values.\n",
    "\n",
    "Long story short, you just need to be  careful you don't accidentally make changes to variables in higher scope. \n",
    "You can do this by doing most of your work in functions, then just calling those functions at the higher scope, \n",
    "passing around any values you need. "
   ]
  },
  {
   "cell_type": "markdown",
   "metadata": {},
   "source": [
    "### Parameter Safety\n",
    "\n",
    "***This section is optional, but recommended. If you don't completely understand this, that's fine. This is grossly \n",
    "oversimplified to the point of being mostly wrong, but the end result is close enough to correct.***\n",
    "\n",
    "Remember how we mentioned that parameters are essentially variables? Well, that means we can change the value of a \n",
    "parameter to something else, and that variable you created will reflect that change. But this can also have other effects. \n",
    "If you're using simple values, like numbers, strings, or bools, this will work just fine, with no side effects. However, \n",
    "if you try to change a list, dictionary, or object (we'll talk about these in a few lessons), that will change the value outside \n",
    "of the function, which usually isn't what you want. Here's an example to illustrate these concepts."
   ]
  },
  {
   "cell_type": "code",
   "execution_count": null,
   "metadata": {},
   "outputs": [],
   "source": [
    "def modify(num, str, logic, lis, dict):\n",
    "    num += 1\n",
    "    str += \"!!!\"\n",
    "    logic = not logic\n",
    "    lis[0] = \"Something else\"\n",
    "    dict[\"new_thing\"] = True\n",
    "\n",
    "n = 1\n",
    "s = \"string\"\n",
    "b = False\n",
    "arr = [1,2,3,4]\n",
    "map = {\"foo\": 1, \"bar\": 2}\n",
    "modify(n, s, b, arr, map)\n",
    "print(n)\n",
    "print(s)\n",
    "print(b)\n",
    "print(arr)\n",
    "print(map)"
   ]
  },
  {
   "cell_type": "markdown",
   "metadata": {},
   "source": [
    "We can see here that each of the parameters to `modify` is changed such that the original value is overwritten. With the \n",
    "\"primitive\" values (i.e. the numbers, strings, and bools), the value of the parameter (the *argument*) isn't changed \n",
    "outside of the function. However, with the list and dictionary, the value outside the function is changed. \n",
    "\n",
    "This is because \n",
    "these are being passed in two different ways. The primitive values are being passed using a method called *pass-by-value*, \n",
    "which means that the value is copied before it's handed to the function, so that the original value is unaffected. Other \n",
    "types, however, are passed using *pass-by-reference*. This means that a *reference* to the original value is passed in to \n",
    "the function, which you can use just like a value, but any changes also affect the value outside of the function.\n",
    "\n",
    "As a final note, you should absolutely do your own research on these concepts, as they're very important for other \n",
    "languages and handy to know in general. The rules and terms introduced here are correct, but how they are described for \n",
    "Python is not entirely accurate or complete, though the upshot is functionally similar (e.g. Python doesn't use \n",
    "pass-by-reference at all, but it pretty much looks the same in practice and is somewhat complicated, going *far* beyond \n",
    "the scope of these lessons)."
   ]
  },
  {
   "cell_type": "markdown",
   "metadata": {},
   "source": [
    "# Exercises"
   ]
  },
  {
   "cell_type": "markdown",
   "metadata": {},
   "source": [
    "1. Given the following function definitions, list the function's name, the number of parameters it has, and \n",
    "a summary of what the function does when called. If possible, give an example of how it's used and what would \n",
    "happen.\n"
   ]
  },
  {
   "cell_type": "markdown",
   "metadata": {},
   "source": [
    "\n",
    "```python\n",
    "def greet(name):\n",
    "    print(\"Hello, my name is {}.\".format(name))\n",
    "```\n"
   ]
  },
  {
   "cell_type": "markdown",
   "metadata": {},
   "source": []
  },
  {
   "cell_type": "markdown",
   "metadata": {},
   "source": [
    "\n",
    "```python\n",
    "def sign_of(num):\n",
    "    if num < 0:\n",
    "        return -1\n",
    "    elif num > 0:\n",
    "        return 1\n",
    "    else:\n",
    "        return 0\n",
    "```\n"
   ]
  },
  {
   "cell_type": "markdown",
   "metadata": {},
   "source": []
  },
  {
   "cell_type": "markdown",
   "metadata": {},
   "source": [
    "\n",
    "```python\n",
    "def random():\n",
    "    return 4\n",
    "```"
   ]
  },
  {
   "cell_type": "markdown",
   "metadata": {},
   "source": []
  },
  {
   "cell_type": "markdown",
   "metadata": {},
   "source": [
    "2. Remember the Fizz Buzz problem from the lesson on loops? Implement that problem, but as a function called \n",
    "`fizzbuzz` that takes the number to count up to as an argument. This function will print every number between \n",
    "1 and that number, following the rules of Fizz Buzz.\n",
    "\n",
    "As a reminder, the rules are:\n",
    "- if a number is divisible by 3, print \"Fizz\"\n",
    "- if a number is divisible by 5, print \"Buzz\"\n",
    "- if a number is divisible by 3 and 5, print \"FizzBuzz\"\n",
    "- otherwise, print the number itself"
   ]
  },
  {
   "cell_type": "code",
   "execution_count": null,
   "metadata": {},
   "outputs": [],
   "source": []
  },
  {
   "cell_type": "markdown",
   "metadata": {},
   "source": [
    "3. Write a function named `operate` that takes 2 numbers and a string, in that order. The function does the \n",
    "following, based on the input of the string.\n",
    "- \"add\" - add the two numbers\n",
    "- \"sub\" - subtract the right number from the left number\n",
    "- \"mul\" - multiply the two numbers\n",
    "- \"div\" - divide the left number by the right\n",
    "\n",
    "Return the result of the operation. If the string isn't one of these values, return nothing.\n",
    "\n",
    "***Challenge***: Try to only use a single `return` statement. If you do, decide for yourself whether it's more \n",
    "readable, and write a comment saying which for you prefer."
   ]
  },
  {
   "cell_type": "code",
   "execution_count": null,
   "metadata": {},
   "outputs": [],
   "source": []
  },
  {
   "cell_type": "markdown",
   "metadata": {},
   "source": [
    "4. Write a function named `unix_passwords` that takes a list of strings and returns a list of all of the strings that \n",
    "are 8 characters or less long. Make sure you don't modify the original list.\n",
    "\n",
    "**History Lesson**: The Unix operating system's password system had a maximum length of 8 letters, and anything \n",
    "beyond that was truncated (cut off). This is a horrible idea, but, in 80's programmers' defense, we're still \n",
    "pretty bad at security today, just less bad."
   ]
  },
  {
   "cell_type": "code",
   "execution_count": null,
   "metadata": {},
   "outputs": [],
   "source": []
  },
  {
   "cell_type": "markdown",
   "metadata": {},
   "source": [
    "5. **Challenge**: The Fibonacci sequence is a famous number sequence that creates its numbers from the following rule:\n",
    "the next number in the sequence is always the sum of the previous two numbers. Mathematically speaking:\n",
    "```\n",
    "f(n) = f(n-1) + f(n-2)\n",
    "```\n",
    "Where `n` is the index of the number. The first two numbers are traditionally chosen to both be 1, though \n",
    "sometimes the first steps are 0 and 1, with 0 being at the 0th position (which yields the exact same results \n",
    "as start with 1 and 1).\n",
    "\n",
    "Write a function, `fib`, that takes a single number. This number is the index of the Fibonacci sequence you want \n",
    "to count to. Your function will return the value at that position. You can choose whether you want to support \n",
    "the version that starts at the 0th index. It won't be tested, and the results are otherwise similar. This is \n",
    "just a matter of preference."
   ]
  },
  {
   "cell_type": "code",
   "execution_count": null,
   "metadata": {},
   "outputs": [],
   "source": []
  },
  {
   "cell_type": "markdown",
   "metadata": {},
   "source": [
    "# Testing\n",
    "\n",
    "This section contains code to test all of the functions you've written in the exercises. Each section will test \n",
    "a single function, in the same order as the exercises. Don't change any of this code, but feel free to read it \n",
    "over to figure out how it works. Fair warning, there will be concepts used here that we haven't talked about yet, \n",
    "however, as always, internet research is your friend.\n",
    "\n",
    "Also, the graders more or less contain solutions to the exercises. Make sure you have your own solutions before \n",
    "looking here. It will be obvious if you copy the code here, as almost all graders use code that you haven't \n",
    "learned yet.\n",
    "\n",
    "If you haven't done the exercise yet, or gave your function the wrong name, the grading code will say so."
   ]
  },
  {
   "cell_type": "code",
   "execution_count": null,
   "metadata": {},
   "outputs": [],
   "source": [
    "# Exercise 2\n",
    "from inspect import signature\n",
    "from io import StringIO\n",
    "from contextlib import redirect_stdout\n",
    "import random\n",
    "\n",
    "def fizz_buzz_generator(n):\n",
    "    if n < 1:\n",
    "        return \"\"\n",
    "    div3 = not (n % 3)\n",
    "    div5 = not (n % 5)\n",
    "    out = \"\"\n",
    "    if div3:\n",
    "        out += \"Fizz\" \n",
    "    if div5:\n",
    "        out += \"Buzz\"\n",
    "    if not div3 or div5:\n",
    "        out = str(n)\n",
    "    return fizz_buzz_generator(n-1) + out + \"\\n\"\n",
    "\n",
    "try:\n",
    "    fizzbuzz\n",
    "    assert(len(signature(fizzbuzz).parameters) == 1)\n",
    "except NameError:\n",
    "    print(\"'fizzbuzz' is not defined\")\n",
    "except AssertionError:\n",
    "    print(\"'fizzbuzz' should take exactly 1 argument\")\n",
    "else:\n",
    "    for i in range(100):\n",
    "        upper = random.randint(1, 100)\n",
    "        output = StringIO()\n",
    "        expected = fizz_buzz_generator(upper)\n",
    "        with redirect_stdout(output):\n",
    "            fizzbuzz(upper)\n",
    "        \n",
    "        if expected != output.getvalue():\n",
    "            print(\"Failed on input: {}\".format(upper))\n",
    "            break\n",
    "    else:\n",
    "        print(\"Passed!\")\n",
    "        \n",
    "    "
   ]
  },
  {
   "cell_type": "code",
   "execution_count": null,
   "metadata": {},
   "outputs": [],
   "source": [
    "# Exercise 3\n",
    "\n",
    "from inspect import signature\n",
    "import random\n",
    "\n",
    "operations = {\n",
    "    \"add\": lambda l, r : l+r,\n",
    "    \"sub\": lambda l, r : l-r,\n",
    "    \"mul\": lambda l, r : l*r,\n",
    "    \"div\": lambda l, r : l/r\n",
    "}\n",
    "\n",
    "try:\n",
    "    operate\n",
    "    assert(len(signature(operate).parameters) == 3)\n",
    "except NameError:\n",
    "    print(\"'operate' is not defined\")\n",
    "except AssertionError:\n",
    "    print(\"'operate' should take exactly 3 arguments\")\n",
    "else:\n",
    "    for l, r in [(random.randint(1,100), random.randint(1,100)) for i in range(100)]:\n",
    "        for op, f in operations.items():\n",
    "            if f(l,r) != operate(l, r, op):\n",
    "                print(\"Failed for inputs ({}, {}) with operation '{}'\".format(l, r, op))\n",
    "                break\n",
    "        else:\n",
    "            continue\n",
    "        break\n",
    "    else:\n",
    "        print(\"Passed!\")\n"
   ]
  },
  {
   "cell_type": "code",
   "execution_count": null,
   "metadata": {},
   "outputs": [],
   "source": [
    "# Exercise 4\n",
    "import string\n",
    "import random\n",
    "from itertools import islice\n",
    "from inspect import signature\n",
    "\n",
    "alphabet_source = string.ascii_letters + string.digits\n",
    "\n",
    "def random_string():\n",
    "    while True:\n",
    "        size = random.randint(1, 50)\n",
    "        yield \"\".join(random.choice(alphabet_source) for _ in range(size))\n",
    "\n",
    "try:\n",
    "    unix_passwords\n",
    "    assert(len(signature(unix_passwords).parameters) == 1)\n",
    "except NameError:\n",
    "    print(\"'unix_passwords' is not defined\")\n",
    "except AssertionError:\n",
    "    print(\"'unix_passwords' should take exactly 1 argument\")\n",
    "else:\n",
    "    for _ in range(100):\n",
    "        input_list = list(islice(random_string(), random.randint(1, 100)))\n",
    "        safety_copy = input_list.copy()\n",
    "        expected = [w for w in input_list if len(w) <= 8]\n",
    "        output = unix_passwords(input_list)\n",
    "        if type(output) != type([]):\n",
    "            print(\"Failure: function doesn't return list\")\n",
    "            break\n",
    "        if input_list != safety_copy:\n",
    "            print(\"Failure: original list modified.\")\n",
    "            break\n",
    "        if output != expected:\n",
    "            diff = set(expected) - set(output)\n",
    "            print(\"Failure: {} should be included but {}.\".format(diff, \"wasn't\" if len(diff) == 1 else \"weren't\"))\n",
    "            break\n",
    "    else: \n",
    "        print(\"Passed!\")\n"
   ]
  },
  {
   "cell_type": "code",
   "execution_count": null,
   "metadata": {},
   "outputs": [],
   "source": [
    "# Exercise 5\n",
    "from inspect import signature\n",
    "\n",
    "fib_sequence = [1, 1, 2, 3, 5, 8, 13, 21, 34, 55, 89, 144, 233, 377, 610, 987, 1597, 2584, 4181, 6765]\n",
    "\n",
    "# If you're using a quick method of generating Fibonacci numbers, set this to True for an extra test\n",
    "fast_fib = False\n",
    "\n",
    "try:   \n",
    "    fib\n",
    "    assert(len(signature(fib).parameters) == 1)\n",
    "except NameError:\n",
    "    print(\"'fib' is not defined\")\n",
    "except AssertionError:\n",
    "    print(\"'fib' should take exactly 1 argument\")\n",
    "else:\n",
    "    for i in range(20):\n",
    "        expected = fib_sequence[i]\n",
    "        output = fib(i+1)\n",
    "        if output != expected:\n",
    "            print(\"Failure on input {}. Got {}, expected {}.\".format(i+1, output, expected))\n",
    "            break\n",
    "    else:\n",
    "        print(\"Passed!\")\n",
    "\n",
    "if fast_fib:\n",
    "    import random\n",
    "    for _ in range(1000):\n",
    "        index = random.randint(3, 10000)\n",
    "        if fib(index) != fib(index-1) + fib(index-2):\n",
    "            print(\"Failure: entry {} is not the sum of the previous two entries\")\n",
    "            break\n",
    "    else:\n",
    "        print(\"(fast_fib)Passed!\")\n"
   ]
  }
 ],
 "metadata": {
  "kernelspec": {
   "display_name": "Python 3.10.7 64-bit",
   "language": "python",
   "name": "python3"
  },
  "language_info": {
   "codemirror_mode": {
    "name": "ipython",
    "version": 3
   },
   "file_extension": ".py",
   "mimetype": "text/x-python",
   "name": "python",
   "nbconvert_exporter": "python",
   "pygments_lexer": "ipython3",
   "version": "3.10.7"
  },
  "orig_nbformat": 4,
  "vscode": {
   "interpreter": {
    "hash": "afb734500600fd355917ca529030176ea0ca205570884b88f2f6f7d791fd3fbe"
   }
  }
 },
 "nbformat": 4,
 "nbformat_minor": 2
}
