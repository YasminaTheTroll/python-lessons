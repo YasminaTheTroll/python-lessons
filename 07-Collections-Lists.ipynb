{
 "cells": [
  {
   "cell_type": "markdown",
   "metadata": {},
   "source": [
    "# Collections: Lists\n",
    "\n",
    "In the last lesson, we started digging into loops, and we started looking into programs that were actually \n",
    "starting to get interesting. Now, we're going to dig deeper into a topic that his heavily tied to loops: \n",
    "*collections*. In general, collections are just what they sound like; they're a bunch of data bundled up \n",
    "into some kind of structure, and they're usually related somehow. \n",
    "\n",
    "Now, this may not sound terribly revolutionary, but it allows tracking of arbitrary amounts of data without \n",
    "needing a variable for every single data point, like we've had until now. You can imagine how powerful this\n",
    "might be for representing something like money, people, or sensor data over time.\n",
    "\n",
    "Over the next few lessons, we'll be covering a few different kinds of collections, but we'll start off with \n",
    "the most simple form of collection: the *list*."
   ]
  },
  {
   "cell_type": "markdown",
   "metadata": {},
   "source": [
    "### Lists\n",
    "\n",
    "Lists, usually called *arrays* in other languages, are exactly what they sound like - they're a list of data \n",
    "presented in order. In many languages, lists have to be of a single type, but Python being dynamically-typed \n",
    "means that lists can contain absolutely any data you want. The most important part of a list is that it is \n",
    "*ordered*. This means that where the data is in the list matters. If it's in different place, that's a \n",
    "different list.\n",
    "\n",
    "#### Creating a List\n",
    "\n",
    "Creating a list is really simple. All it takes is a wrapping a comma-separated list of values between literal \n",
    "square brackets (`[]`), like so:"
   ]
  },
  {
   "cell_type": "code",
   "execution_count": 21,
   "metadata": {},
   "outputs": [
    {
     "data": {
      "text/plain": [
       "[1, 2, 3, 4, 5]"
      ]
     },
     "execution_count": 21,
     "metadata": {},
     "output_type": "execute_result"
    }
   ],
   "source": [
    "# Play around with this and see how changing the values changes the output list.\n",
    "[1, 2, 3, 4, 5]"
   ]
  },
  {
   "cell_type": "markdown",
   "metadata": {},
   "source": [
    "Practically, lists are just a value, like any other data in Python. Like any other data, you can store it in \n",
    "a variable, which is usually the most useful thing you can do with a newly-created list."
   ]
  },
  {
   "cell_type": "code",
   "execution_count": 23,
   "metadata": {},
   "outputs": [
    {
     "name": "stdout",
     "output_type": "stream",
     "text": [
      "['one', 'two', 'three', 'four', 'five']\n"
     ]
    }
   ],
   "source": [
    "new_list = [\"one\", \"two\", \"three\", \"four\", \"five\"]\n",
    "print(new_list)"
   ]
  },
  {
   "cell_type": "markdown",
   "metadata": {},
   "source": [
    "Of course, since I mentioned that the types of the data inside the list doesn't matter, you can mix up \n",
    "the types in a list as much as you like. "
   ]
  },
  {
   "cell_type": "code",
   "execution_count": 25,
   "metadata": {},
   "outputs": [
    {
     "name": "stdout",
     "output_type": "stream",
     "text": [
      "['five', 4.0, 'three', 1, 2.0]\n"
     ]
    }
   ],
   "source": [
    "mixed_list = [\"five\", 4.0, \"three\", 1, 2.0]\n",
    "print (mixed_list)"
   ]
  },
  {
   "cell_type": "markdown",
   "metadata": {},
   "source": [
    "This works just as well as any of the others. To be clear, this is only saying that these are all valid \n",
    "lists, not that they are equivalent."
   ]
  },
  {
   "cell_type": "markdown",
   "metadata": {},
   "source": [
    "#### Accessing List Elements\n",
    "\n",
    "```python\n",
    "<some-list-variable>[<index>]\n",
    "```\n",
    "\n",
    "Now that you have a list, you'll probably want to use the data inside of it. This is a little more complicated \n",
    "than creating the list, but not much. All you need to do is take the variable you have the list stored in, and \n",
    "follow it with square brackets with the *index* of the element inside. \n",
    "\n",
    "Here, we need to take a quick sidebar to talk about indexing in programming. The index of an element is like \n",
    "that element's position in the list, except index values start at 0 instead of 1. So the first element has an \n",
    "index of 0, the second has 1, the third has 2, ad infinitum. This is called zero-indexing,\n",
    "and is extremely common in programming languages. The reasons for this are largely historical, but it turns \n",
    "out that it tends to be extremely handy for doing math with indices. "
   ]
  },
  {
   "cell_type": "code",
   "execution_count": 30,
   "metadata": {},
   "outputs": [
    {
     "name": "stdout",
     "output_type": "stream",
     "text": [
      "foo\n"
     ]
    }
   ],
   "source": [
    "# Play around with the different indices and see how the value changes. \n",
    "some_list = [\"foo\", \"bar\", \"baz\", \"yux\"]\n",
    "print(some_list[0])"
   ]
  },
  {
   "cell_type": "markdown",
   "metadata": {},
   "source": [
    "Python, unlike most programming languages, even has the ability to easily access the end of the list by use \n",
    "negative indices. The end of the list has the index -1, the second from the end has -2, etc."
   ]
  },
  {
   "cell_type": "code",
   "execution_count": 32,
   "metadata": {},
   "outputs": [
    {
     "name": "stdout",
     "output_type": "stream",
     "text": [
      "baz\n"
     ]
    }
   ],
   "source": [
    "# Using the same list from before\n",
    "print(some_list[-2])"
   ]
  },
  {
   "cell_type": "markdown",
   "metadata": {},
   "source": [
    "You have to be careful when indexing into a list, as an index that tries to reach outside of the list will \n",
    "result in your code crashing, complaining about the index being \"out of range\"."
   ]
  },
  {
   "cell_type": "markdown",
   "metadata": {},
   "source": [
    "#### `len()`\n",
    "\n",
    "You can help prevent the out-of-bounds index issues by checking how long the list is (because you'll actually\n",
    "rarely know, in practice). You can do this by calling the `len()` function on the list, like so"
   ]
  },
  {
   "cell_type": "code",
   "execution_count": null,
   "metadata": {},
   "outputs": [],
   "source": [
    "# Getting the length of some_list\n",
    "print(len(some_list))"
   ]
  },
  {
   "cell_type": "markdown",
   "metadata": {},
   "source": [
    "This also works on most other collections we'll talk about, as well as strings, which as we learned in the last \n",
    "lesson, is a form of collection."
   ]
  },
  {
   "cell_type": "markdown",
   "metadata": {},
   "source": [
    "#### Modifying a List\n",
    "\n",
    "```python\n",
    "<some-list-variable>[<index>] = <new-value>\n",
    "```\n",
    "\n",
    "Static lists can be very useful, but more often than not you're actually going to want to modify the values in \n",
    "a list. This is done by treating the indexed value like it's its own variable (which it kind of is), then assigning \n",
    "a new value to it. The old value is then replaced by the new value."
   ]
  },
  {
   "cell_type": "code",
   "execution_count": null,
   "metadata": {},
   "outputs": [],
   "source": [
    "sorted_list = [1, 2, 3, 4, 5]\n",
    "sorted_list[4] = 0\n",
    "# now the list isn't so sorted\n",
    "print(sorted_list)"
   ]
  },
  {
   "cell_type": "markdown",
   "metadata": {},
   "source": [
    "#### Adding an Element\n",
    "\n",
    "Often, when working with a list, you'll want to add some kind of new information. For instance, when working \n",
    "with real-time data, you'll add new information as time goes on. As such, you'll add an element to the list you're \n",
    "using. There are two main ways to do this: `append()` and `insert()`.\n",
    "\n",
    "`append` does exactly what it sounds like: it appends an element to the end of the current list, like so:"
   ]
  },
  {
   "cell_type": "code",
   "execution_count": 3,
   "metadata": {},
   "outputs": [
    {
     "name": "stdout",
     "output_type": "stream",
     "text": [
      "['apple', 'banana', 'grape', 'orange', 'dragonfruit']\n"
     ]
    }
   ],
   "source": [
    "fruits = [\"apple\", \"banana\", \"grape\", \"orange\"]\n",
    "fruits.append(\"dragonfruit\")\n",
    "print(fruits)"
   ]
  },
  {
   "cell_type": "markdown",
   "metadata": {},
   "source": [
    "If instead you want to add a new element to the list arbitrarily, you can use `insert()`, passing it the index \n",
    "where you want to put it, and the value to put there. Inserting will shift every element after the new one by \n",
    "one position, increasing each index by 1."
   ]
  },
  {
   "cell_type": "code",
   "execution_count": 6,
   "metadata": {},
   "outputs": [
    {
     "name": "stdout",
     "output_type": "stream",
     "text": [
      "['apple', 'banana', 'guava', 'grape', 'orange']\n"
     ]
    }
   ],
   "source": [
    "fruits = [\"apple\", \"banana\", \"grape\", \"orange\"]\n",
    "fruits.insert(2, \"guava\")\n",
    "print(fruits)\n"
   ]
  },
  {
   "cell_type": "markdown",
   "metadata": {},
   "source": [
    "Both of these methods only work for exactly one value, so if you want to add multiple, you'll need to call \n",
    "the method for each item you want to add. However, if you have a list you want to add to another list, \n",
    "specifically to append to it, you can use the `extend()` function. This will add the contents of one list to\n",
    "the other."
   ]
  },
  {
   "cell_type": "code",
   "execution_count": null,
   "metadata": {},
   "outputs": [],
   "source": [
    "grocery_list = [\"milk\", \"duct tape\", \"eggs\", \"tissues\"]\n",
    "grocery_list.extend(fruits)\n",
    "print(grocery_list)"
   ]
  },
  {
   "cell_type": "markdown",
   "metadata": {},
   "source": [
    "You can see that the list between the parentheses was added the the list before the dot. If you look at the \n",
    "list in the parentheses, you'll see that it's completely unaffected. The same goes for any of these methods:\n",
    "the original data being added is copied, and is otherwise unaffected."
   ]
  },
  {
   "cell_type": "markdown",
   "metadata": {},
   "source": [
    "#### Deleting an Element\n",
    "\n",
    "Just as you'll sometimes want to add values to a list, sometimes you'll also want to delete values from a list.\n",
    "There are two primary ways to do this: `pop()`, and `remove()`.\n",
    "\n",
    "`pop()` is the simpler of the two, and removes the value at the index you give it."
   ]
  },
  {
   "cell_type": "code",
   "execution_count": null,
   "metadata": {},
   "outputs": [],
   "source": [
    "chores = [\"dishes\", \"laundry\", \"mopping\", \"gutters\"]\n",
    "chores.pop(2)\n",
    "print(chores)"
   ]
  },
  {
   "cell_type": "markdown",
   "metadata": {},
   "source": [
    "You can see that deleting the item works as expected, and shifts ever element after the deleted one down by 1.\n",
    "\n",
    "`remove()`, instead of taking an index, takes some value, and removes the first element it finds that equals that \n",
    "value. "
   ]
  },
  {
   "cell_type": "code",
   "execution_count": null,
   "metadata": {},
   "outputs": [],
   "source": [
    "chores = [\"dishes\", \"laundry\", \"mopping\", \"gutters\"]\n",
    "chores.remove(\"gutters\")\n",
    "print(chores)"
   ]
  },
  {
   "cell_type": "markdown",
   "metadata": {},
   "source": [
    "In both methods, if the index or value you give to be removed doesn't exist in that list, it will cause an error. \n",
    "As such, you always want to check that the value or index you're trying to remove is valid in the first place."
   ]
  },
  {
   "cell_type": "markdown",
   "metadata": {},
   "source": [
    "Finally, if for some reason you want to empty your list and start over from scratch, you can call the clear \n",
    "method, which deletes every element in the list, leaving you with an empty list."
   ]
  },
  {
   "cell_type": "code",
   "execution_count": null,
   "metadata": {},
   "outputs": [],
   "source": [
    "# We've knocked out all the other chores\n",
    "chores.clear()\n",
    "print(chores)"
   ]
  },
  {
   "cell_type": "markdown",
   "metadata": {},
   "source": [
    "### Iterating Over a List"
   ]
  },
  {
   "cell_type": "markdown",
   "metadata": {},
   "source": [
    "We mentioned in the last lesson that loops are used to iterate over \"collections\". Well, what is a list, if not a collection? \n",
    "Iterating over a list is very simple, and in fact we've already done it! We've talked before that a string is just a \n",
    "collection of characters. Well, more specifically, it's a list of characters because there's an order to the elements, but \n",
    "there's no special meaning beyond that. So when we iterated over the characters in a string, we really were iterating \n",
    "over a list of characters. This means that iterating over a list works the same way."
   ]
  },
  {
   "cell_type": "code",
   "execution_count": 10,
   "metadata": {},
   "outputs": [
    {
     "name": "stdout",
     "output_type": "stream",
     "text": [
      "Mary\n",
      "Alexei\n",
      "Manuel\n",
      "Anastasia\n",
      "Chris\n",
      "Sakura\n"
     ]
    }
   ],
   "source": [
    "students = [\"Mary\", \"Alexei\", \"Manuel\", \"Anastasia\", \"Chris\", \"Sakura\"]\n",
    "# Here, we just use the list variable the same way we would use a string\n",
    "for s in students:\n",
    "    print(s)"
   ]
  },
  {
   "cell_type": "markdown",
   "metadata": {},
   "source": [
    "Simple and familiar! And the loop variable has each element in the order it is in the list. Also notice that the list \n",
    "doesn't care what type its elements are. Before, we iterated over strings, but now we just get the strings as values. \n",
    "What this means is that if we wanted to loop over the characters of each string, we could do that by putting another \n",
    "loop inside the outer loop."
   ]
  },
  {
   "cell_type": "code",
   "execution_count": null,
   "metadata": {},
   "outputs": [],
   "source": [
    "# Prints the length of every student's name\n",
    "for name in students:\n",
    "    # notice that size is re-initialized to 0 every iteration\n",
    "    size = 0\n",
    "    for c in name:\n",
    "        size += 1\n",
    "    print(\"{}: {}\".format(name, size))"
   ]
  },
  {
   "cell_type": "markdown",
   "metadata": {},
   "source": [
    "In this case, it would be better to call `len()` since it's much faster, but this is meant to illustrate the concept, \n",
    "rather than be an example of good practice."
   ]
  },
  {
   "cell_type": "markdown",
   "metadata": {},
   "source": [
    "### Iterating with Indices\n",
    "\n",
    "Notice that when you're looping, each iteration gives you the value that's in the list, but not the item's index. \n",
    "This means that you don't know where that item is in the list when you get to it, unless you're tracking it (which \n",
    "is generally a bad idea). Sometimes though, you want that information for whatever reason. There are two ways to do \n",
    "this: the simple way, and the way that takes a little more work."
   ]
  },
  {
   "cell_type": "markdown",
   "metadata": {},
   "source": [
    "#### The Simple Way: `enumerate()`\n",
    "\n",
    "To get both the index and the value at that index, you can use the `enumerate()` function on your list."
   ]
  },
  {
   "cell_type": "code",
   "execution_count": 16,
   "metadata": {},
   "outputs": [
    {
     "name": "stdout",
     "output_type": "stream",
     "text": [
      "1) Mary\n",
      "2) Alexei\n",
      "3) Manuel\n",
      "4) Anastasia\n",
      "5) Chris\n",
      "6) Sakura\n"
     ]
    }
   ],
   "source": [
    "for i, name in enumerate(students):\n",
    "    print(\"{}) {}\".format(i+1, name))"
   ]
  },
  {
   "cell_type": "markdown",
   "metadata": {},
   "source": [
    "See how you get both the index and the value? It's nice and simple, though you'll see there's some new syntax. `for` loops \n",
    "actually allow you to have multiple loop variables, separated by commas. Generally, there are only a few places \n",
    "you'll use this, but it's important to know that it's an option. If you were to leave one out, you would just get \n",
    "something called a *tuple*, which is kind of like a list, except you can't change it in any way."
   ]
  },
  {
   "cell_type": "markdown",
   "metadata": {},
   "source": [
    "### The Way that Takes a Little More Work: `range(len())`\n",
    "\n",
    "This approach combines two functions we're already familiar with, `range` and `len`. The idea is that you \n",
    "take the `len` of the the list, and make a `range` out of it, which, by merit of starting at 0, automatically \n",
    "gives you the indices of the list, but not the values directly. You can the access the list by index, and \n",
    "that will give you your values."
   ]
  },
  {
   "cell_type": "code",
   "execution_count": null,
   "metadata": {},
   "outputs": [],
   "source": [
    "# Same example as above, but with the range(len()) approach\n",
    "for i in range(len(students)):\n",
    "    print(\"{}) {}\".format(i+1, students[i]))"
   ]
  },
  {
   "cell_type": "markdown",
   "metadata": {},
   "source": [
    "Generally, if you want the index of a value, it's easier to use `enumerate`, but there are occasionally circumstances \n",
    "that make the `range(len())` approach better (though I admittedly can't think of any as of writing). Interestingly, \n",
    "this is generally the way you loop over a list/array in other languages. Python's normal `for` loop is usually referred \n",
    "to as a `foreach` loop (yet again, for historical reasons)."
   ]
  },
  {
   "cell_type": "markdown",
   "metadata": {},
   "source": [
    "# Exercises"
   ]
  },
  {
   "cell_type": "markdown",
   "metadata": {},
   "source": [
    "1. What is a collection? What makes a list a collection?"
   ]
  },
  {
   "cell_type": "markdown",
   "metadata": {},
   "source": [
    "related data bundled up into a structure"
   ]
  },
  {
   "cell_type": "markdown",
   "metadata": {},
   "source": [
    "2. For each of following lists, print whether they are equivalent."
   ]
  },
  {
   "cell_type": "code",
   "execution_count": 1,
   "metadata": {},
   "outputs": [
    {
     "name": "stdout",
     "output_type": "stream",
     "text": [
      "true\n",
      "false\n",
      "false\n",
      "false\n"
     ]
    }
   ],
   "source": [
    "first_list_1 = [1, 2, 3, 4, 5]\n",
    "first_list_2 = [1, 2, 3, 4, 5]\n",
    "# print here\n",
    "print(\"true\")\n",
    "\n",
    "second_list_1 = [1, 2, 3, 4, 5]\n",
    "second_list_2 = [5, 4, 3, 2, 1]\n",
    "# print here\n",
    "print(\"false\")\n",
    "\n",
    "third_list_1 = [1, 1, 1, 1, 1, 1, 1, 1]\n",
    "third_list_2 = [1, 1, 1, 1, 1, 1, 1]\n",
    "# print here\n",
    "print(\"false\")\n",
    "\n",
    "fourth_list_1 = [10]\n",
    "fourth_list_2 = [0, 10]\n",
    "# print here\n",
    "print(\"false\")"
   ]
  },
  {
   "cell_type": "markdown",
   "metadata": {},
   "source": [
    "3. Make a list with at least five string elements. You can call it whatever you like, and the data can be whatever \n",
    "you like. This will be used in subsequent exercises, so make sure it has at least 5 elements and that they are \n",
    "all strings."
   ]
  },
  {
   "cell_type": "code",
   "execution_count": 4,
   "metadata": {},
   "outputs": [],
   "source": [
    "dabloons = [\"coins\", \"shinies\", \"booty\", \"doge coin\", \"currency\"]"
   ]
  },
  {
   "cell_type": "markdown",
   "metadata": {},
   "source": [
    "4. Add an element to the end of your list, then print out the new list."
   ]
  },
  {
   "cell_type": "code",
   "execution_count": 5,
   "metadata": {},
   "outputs": [
    {
     "name": "stdout",
     "output_type": "stream",
     "text": [
      "['coins', 'shinies', 'booty', 'doge coin', 'currency', 'inflation']\n"
     ]
    }
   ],
   "source": [
    "dabloons.append(\"inflation\")\n",
    "print(dabloons)"
   ]
  },
  {
   "cell_type": "markdown",
   "metadata": {},
   "source": [
    "5. Add an element to the 3rd position of your list. Print out the new list, and the length of the list after the last two exercises."
   ]
  },
  {
   "cell_type": "code",
   "execution_count": 9,
   "metadata": {},
   "outputs": [
    {
     "name": "stdout",
     "output_type": "stream",
     "text": [
      "['coins', 'shinies', 'booty', 'thief', 'doge coin', 'currency', 'inflation']\n"
     ]
    }
   ],
   "source": [
    "dabloons.insert(3,\"thief\")\n",
    "print(dabloons)"
   ]
  },
  {
   "cell_type": "markdown",
   "metadata": {},
   "source": [
    "6. Print out each individual element of the list, prefixed by its index in the form of `<index>. <value>`"
   ]
  },
  {
   "cell_type": "code",
   "execution_count": 15,
   "metadata": {},
   "outputs": [
    {
     "name": "stdout",
     "output_type": "stream",
     "text": [
      "1: coins\n",
      "2: shinies\n",
      "3: booty\n",
      "4: thief\n",
      "5: doge coin\n",
      "6: currency\n",
      "7: inflation\n"
     ]
    }
   ],
   "source": [
    "for i, items in enumerate(dabloons):\n",
    "    print(\"{}: {}\".format(i + 1, items))"
   ]
  },
  {
   "cell_type": "markdown",
   "metadata": {},
   "source": [
    "7. Repeat the previous exercise, but use the other iteration method. If you used `enumerate()`, use `range(len())`, and vice versa."
   ]
  },
  {
   "cell_type": "code",
   "execution_count": 19,
   "metadata": {},
   "outputs": [
    {
     "name": "stdout",
     "output_type": "stream",
     "text": [
      "1) coins\n",
      "2) shinies\n",
      "3) booty\n",
      "4) thief\n",
      "5) doge coin\n",
      "6) currency\n",
      "7) inflation\n"
     ]
    }
   ],
   "source": [
    "for items in range(len(dabloons)):\n",
    "    print(\"{}) {}\".format(items+1, dabloons[items]))"
   ]
  },
  {
   "cell_type": "markdown",
   "metadata": {},
   "source": [
    "8. It's possible to represent multi-dimensional data by *nesting* lists inside each other. For example, a matrix \n",
    "can be represented by a list of lists. Given this knowledge, given the following array, print out the sum of all \n",
    "the numbers in the matrix."
   ]
  },
  {
   "cell_type": "code",
   "execution_count": 3,
   "metadata": {},
   "outputs": [
    {
     "name": "stdout",
     "output_type": "stream",
     "text": [
      "[3, 6, 3, 3, 10, 6, 8, 9, 0, 10, 8, 6, 6, 6, 8, 6, 9, 9, 8, 6, 3, 9, 9, 7, 2]\n",
      "157\n"
     ]
    }
   ],
   "source": [
    "# You can split large lists across lines, as long as they're evenly indented\n",
    "matrix = [\n",
    "    [3, 6, 3, 3, 10], \n",
    "    [6, 8, 9, 0, 10], \n",
    "    [8, 6, 6, 6, 8], \n",
    "    [6, 9, 9, 8, 6], \n",
    "    [3, 9, 9, 7, 2]\n",
    "]\n",
    "barret = [3, 6, 3, 3, 10]\n",
    "believes = [6, 8, 9, 0, 10]\n",
    "santa = [8, 6, 6, 6, 8]\n",
    "iss = [6, 9, 9, 8, 6]\n",
    "real = [3, 9, 9, 7, 2]\n",
    "\n",
    "def add(nums1, nums2, nums3, nums4, nums5):\n",
    "    return nums1 + nums2 + nums3 + nums4 + nums5\n",
    "yoyo = add(barret, believes, santa, iss, real)\n",
    "print (yoyo)\n",
    "\n",
    "print(\"157\")\n"
   ]
  },
  {
   "cell_type": "markdown",
   "metadata": {},
   "source": [
    "9. Given a positive integer `n` from the user, create a list that contains the first `n` square numbers, starting \n",
    "from 1. *Zero is a valid input*."
   ]
  },
  {
   "cell_type": "code",
   "execution_count": 7,
   "metadata": {},
   "outputs": [
    {
     "name": "stdout",
     "output_type": "stream",
     "text": [
      "[1, 4, 9, 16]\n"
     ]
    }
   ],
   "source": [
    "def square(num):\n",
    "    l = []\n",
    "    for i in range(1,num + 1):\n",
    "        l.append(i * i)\n",
    "    return l\n",
    "\n",
    "print(square(4))\n"
   ]
  },
  {
   "cell_type": "markdown",
   "metadata": {},
   "source": [
    "10. (hard) Given a positive integer `n` from the user, create a list that contains the first `n` prime numbers.\n",
    "A prime number is a number that is divisible strictly by itself and 1, and nothing else. The first 10 prime numbers \n",
    "are `[2,3,5,7,11,13,17,19,23,29]` (do not use this list directly in your code)."
   ]
  },
  {
   "cell_type": "code",
   "execution_count": null,
   "metadata": {},
   "outputs": [],
   "source": []
  }
 ],
 "metadata": {
  "kernelspec": {
   "display_name": "Python 3.10.7 64-bit",
   "language": "python",
   "name": "python3"
  },
  "language_info": {
   "codemirror_mode": {
    "name": "ipython",
    "version": 3
   },
   "file_extension": ".py",
   "mimetype": "text/x-python",
   "name": "python",
   "nbconvert_exporter": "python",
   "pygments_lexer": "ipython3",
   "version": "3.10.7"
  },
  "orig_nbformat": 4,
  "vscode": {
   "interpreter": {
    "hash": "afb734500600fd355917ca529030176ea0ca205570884b88f2f6f7d791fd3fbe"
   }
  }
 },
 "nbformat": 4,
 "nbformat_minor": 2
}
