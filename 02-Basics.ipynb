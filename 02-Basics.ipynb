{
 "cells": [
  {
   "cell_type": "markdown",
   "metadata": {},
   "source": [
    "# Lesson 2 - Basics\n",
    "\n",
    "All programming has a history in math. Programming languages were developed to make doing complicated math much simpler. \n",
    "As such, most programming languages are very good at doing math.\n",
    "\n",
    "Now, if math isn't your favorite thing in the world (or you downright fear it), don't let that last paragraph scare you.\n",
    "Nowadays, math is just a part of what programming is. Being comfortable with how equations and such work is useful, \n",
    "but far from required.\n",
    "\n",
    "Probably the most important thing for beginners that programming has borrowed from math is the fact that there is \n",
    "no magic (despite what it may seem like at times). Despite any sort of anthropomorphizing or overuse of the terms \n",
    "\"smart\" and \"artificial intelligence\", computers will never do anything that you don't tell it to do in your code. \n",
    "Always keep this in mind going forward. You are in control, and everything that happens (or doesn't) is explicitly \n",
    "because of what you wrote."
   ]
  },
  {
   "cell_type": "markdown",
   "metadata": {},
   "source": [
    "## Syntax\n",
    "In any programming language, programs are composed of *statements* and *expressions*. "
   ]
  },
  {
   "cell_type": "markdown",
   "metadata": {},
   "source": [
    "\n",
    "### Statements\n",
    "A statement is just what it sounds like: it's a chunk of code that means something. Statements come in two \n",
    "varieties: *simple statements* and *compound statements*. A simple statement is generally a single line of code. \n",
    "A compound statement is composed of 1 or more simple and/or compound statements. What this means will be covered \n",
    "in later lessons and will be less technical, so don't worry about it too much. "
   ]
  },
  {
   "cell_type": "markdown",
   "metadata": {},
   "source": [
    "\n",
    "### Expressions\n",
    "Expressions are the fundamental building block of every program. An expression is any chunk of code that has \n",
    "a value. This can be a simple bit of math, a literal value, or a function call (we'll get to what that is later).\n",
    "In Python, most statements are expressions, meaning that most lines of code have some kind of value. \n",
    "\n",
    "As a note, almost (if not all) expressions can be statements. Most of the time, this isn't useful. For example, \n",
    "writing `2 + 2` as a statement doesn't do anything. You get the result (`4`, just in case there was doubt), but \n",
    "since it's acting as a statement, without doing anything with that `4`, it doesn't mean anything. We'll talk \n",
    "about how you can do something with this value later."
   ]
  },
  {
   "cell_type": "markdown",
   "metadata": {},
   "source": [
    "### Usefulness\n",
    "Now, with all of this said, this really isn't something you'll need to think about when you're writing code. The \n",
    "most important use is keeping in mind whether or not your code actually does what you think it should. These \n",
    "concepts are more useful when discussing code and being clear and unambiguous about problems or ideas."
   ]
  },
  {
   "cell_type": "markdown",
   "metadata": {},
   "source": [
    "## Math\n",
    "You know how we just said that you don't need to be good at or like math to program? Well now it's time to do \n",
    "some math. Don't worry, it's just some basics to help you get used to Python syntax and what's possible."
   ]
  },
  {
   "cell_type": "markdown",
   "metadata": {},
   "source": [
    "\n",
    "### Operators\n",
    "Equations in math are composed of two distinct parts: the *operands* and the *operators*. Operators are the \n",
    "parts of the equation that do the math, like \"+\" for addition, \"-\" for subtraction, etc. Operands are the \n",
    "values around the operator, and are what the operator operates on. There are plenty of operators in Python, \n",
    "but we'll just talk about the basic math ones right now, and introduce the rest as necessary.\n",
    "\n",
    "| Operation          | Operator | Example    |\n",
    "| ---                | ---      | ---        |\n",
    "| Addition           | `+`      | `3 + 5`    |\n",
    "| Subtraction        | `-`      | `4 - 3`    | \n",
    "| Multiplication     | `*`      | `7 * 43`   |\n",
    "| Division           | `/`      | `5.7 / 19` |\n",
    "| Modulus(remainder) | `%`      | `19 % 4`   |\n",
    "| Exponentiation     | `**`     | `2 ** 4`   |\n",
    "\n",
    "One very important thing to note is that I'm not including any sort of equality \"=\" operator here. This is \n",
    "because in programming, that operation works very differently from math. We'll cover that when we get to variables.\n",
    "\n",
    "Also, Just like in math, the `-` and `+` operators can be written before a value to indicate the number is negative \n",
    "or positive, respectively.\n",
    "\n",
    "You'll notice a new operator that you may not have seen before, called the `modulo` operator. This is simply\n",
    "the remainder to division, which you've probably done before (if not in a while). We'll potentially talk \n",
    "about the uses of this later. Right now, just know that it's the remainder."
   ]
  },
  {
   "cell_type": "markdown",
   "metadata": {},
   "source": [
    "\n",
    "### Order of Operations\n",
    "Just like in math, programming has an order of operations when it comes to how operators work. For the most \n",
    "part, it works how you would expect (for math, you can use the good ol' \"PEMDAS\" acronym). We won't talk too much\n",
    "more about the order of operations, but just keep in mind that if something isn't working the way you expect, \n",
    "but the code looks right, that might be to blame. The only thing of note is that the modulo operation has \n",
    "the level as division."
   ]
  },
  {
   "cell_type": "markdown",
   "metadata": {},
   "source": [
    "### Parentheses\n",
    "Speaking of the order of operations, you should remember the very first letter in your acronym of choice stands\n",
    "for parentheses (\"()\"). In math, you can overrule the order of operations by surrounding a bit of equation in \n",
    "parentheses. The same goes for programming. If you need something in an expression to run before any other part \n",
    "of that expression, you surround it with parentheses, and it will be run first."
   ]
  },
  {
   "cell_type": "markdown",
   "metadata": {},
   "source": [
    "### Compound Expressions\n",
    "\n",
    "Math is good and all, but a language, programming or otherwise, isn't very useful if you can't express complex ideas \n",
    "in single \"sentences\". So Python, just like in any other language, including math, allows you to combine operations \n",
    "into more complex ones. This works exactly like one would expect."
   ]
  },
  {
   "cell_type": "code",
   "execution_count": null,
   "metadata": {},
   "outputs": [],
   "source": [
    "print(5 * 4 + 2)\n",
    "print(12 * (5 + 7))\n",
    "print(2**10 / 5)"
   ]
  },
  {
   "cell_type": "markdown",
   "metadata": {},
   "source": [
    "# Exercises\n"
   ]
  },
  {
   "cell_type": "markdown",
   "metadata": {},
   "source": [
    "\n",
    "1. What are the differences between statements and expressions?"
   ]
  },
  {
   "cell_type": "markdown",
   "metadata": {},
   "source": [
    "A statement is any chunk of code that means something. An expression is any chunk of code that has value."
   ]
  },
  {
   "cell_type": "markdown",
   "metadata": {},
   "source": [
    "2. What are the two kinds of statements?"
   ]
  },
  {
   "cell_type": "markdown",
   "metadata": {},
   "source": [
    "Simple statements and compound statements."
   ]
  },
  {
   "cell_type": "markdown",
   "metadata": {},
   "source": [
    "3. Print the results of the expressions listed in the comments. Don't just print the equation."
   ]
  },
  {
   "cell_type": "code",
   "execution_count": 2,
   "metadata": {},
   "outputs": [
    {
     "name": "stdout",
     "output_type": "stream",
     "text": [
      "5\n",
      "14\n",
      "24\n",
      "\n",
      "1\n"
     ]
    }
   ],
   "source": [
    "# 2 + 3\n",
    "print(\"5\")\n",
    "\n",
    "# 4 * 3.5\n",
    "print(\"14\")\n",
    "# 3 * (4 + 4)\n",
    "print(\"24\")\n",
    "# 7 / 2 + 4\n",
    "print(\"\")\n",
    "# 3 ** 3 - 1\n",
    "\n",
    "# π * 3 ** 2\n",
    "\n",
    "# (7 + 4 * (5 - 2) - -1) ** 2\n",
    "\n",
    "# 100 ** 0.5 \n",
    "\n",
    "# 67 % 5\n",
    "\n",
    "# 10 ** (10 ** 100) % 3\n",
    "print(1)\n",
    "# Imaginary bonus points if you can give the name of the really big number\n"
   ]
  }
 ],
 "metadata": {
  "kernelspec": {
   "display_name": "Python 3.10.7 64-bit",
   "language": "python",
   "name": "python3"
  },
  "language_info": {
   "codemirror_mode": {
    "name": "ipython",
    "version": 3
   },
   "file_extension": ".py",
   "mimetype": "text/x-python",
   "name": "python",
   "nbconvert_exporter": "python",
   "pygments_lexer": "ipython3",
   "version": "3.10.7"
  },
  "orig_nbformat": 4,
  "vscode": {
   "interpreter": {
    "hash": "afb734500600fd355917ca529030176ea0ca205570884b88f2f6f7d791fd3fbe"
   }
  }
 },
 "nbformat": 4,
 "nbformat_minor": 2
}
