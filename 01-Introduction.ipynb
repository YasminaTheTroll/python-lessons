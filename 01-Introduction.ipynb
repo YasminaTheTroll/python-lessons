{
 "cells": [
  {
   "cell_type": "markdown",
   "metadata": {},
   "source": [
    "# Lesson 1 - Introduction\n",
    "\n",
    "Welcome to the Intro to Python for FRC! These lessons are designed to give you a step-by-step introduction to \n",
    "what you need to know to get started writing Python code for the FIRST Robotics Competition. Each lesson will \n",
    "cover a few topics, including code examples throughout and exercises at the end.\n",
    "\n",
    "These lessons might be a little different than what you're used to. Instead of having the traditional \"lecture, \n",
    "read, homework\" loop, instead, this will be all of the above in a single, interactive file. That's right!\n",
    "This file you're reading right now is interactive! We'll get into the details of how that works later on, \n",
    "but just remember that, since that's how you'll be doing the exercises in each lesson."
   ]
  },
  {
   "cell_type": "markdown",
   "metadata": {},
   "source": [
    "## What is Python?\n",
    "In the world of programming, there are two major types of languages: *compiled* and *interpreted*\\*. Compiled \n",
    "languages take the code that's written and turns it into something the processor (CPU) can understand, all \n",
    "before the program can even be run. Interpreted languages, on the other hand, take the code, and run it \n",
    "through what's called an *interpreter*. The interpreter then does various actions based on what the code \n",
    "says, *while the program is running*.\n",
    "\n",
    "The major difference between the two types is where the cost of turning the code into a program is biggest. \n",
    "In compiled languages, it's during the compilation phase, when the code is being translated to something the CPU \n",
    "can use. In interpreted languages, it's when the actual program is running, since the interpreter has \n",
    "to do the same work as the compiler, but it does it while the program is running. This makes for \n",
    "potentially faster development time, but slightly slower execution, whereas compiled code takes longer \n",
    "to develop, but runs much quicker. Keep in mind that one is not better than the other in general; which \n",
    "you use is heavily dependent on your needs, what the language offers, and what you're comfortable with.\n",
    "\n",
    "Of these two categories, Python is an interpreted language. What this means for you is that all you \n",
    "need to do to run your code is tell it to run! All of the heavy lifting is done by the Python \n",
    "interpreter, and you can focus on just writing the code.\n",
    "\n",
    "\\* This isn't strictly true, but it's a useful simplification. Otherwise, things get messy real quick. In \n",
    "reality, most serious interpreted languages also do some form of compilation, but they do it while the code \n",
    "is running. This is referred to as *just-in-time* (JIT) compilation, and it's an incredibly powerful tool. \n",
    "Python uses this, but that really doesn't matter most of the time, and it's extremely unlikely to affect \n",
    "anything you'll be doing in the forseeable future."
   ]
  },
  {
   "cell_type": "markdown",
   "metadata": {},
   "source": [
    "# Interactivity?\n",
    "\n",
    "These lessons are written using something called *Jupyter*. What it is exactly and how that works is well beyond the \n",
    "scope of these lessons, but what you need to know is that it's functionally a text document that is \"executed\" \n",
    "by running parts of it through Python. Since Python is interpreted, it can update your results live and on-the-fly, \n",
    "meaning that you can write a little bit of code and immediately see what it does, which is important when you're \n",
    "learning how to program.\n",
    "\n",
    "This allows for examples that you can see the results of without needing to type them into your computer, a \n",
    "drawback of common to nearly all written lessons (e.g. textbooks, most online tutorials, etc.). Additionally, you can \n",
    "write code to solve a problem, then see what that code does, without having to guess as much. Both of these are \n",
    "incredible tools for learning to program, since they let you tinker quickly and easily, which is so useful at \n",
    "any stage of programming ability.\n",
    "\n",
    "If a piece of code is runnable, it will have a \"play\" button (triangle pointing right) to the upper left of the cell\n",
    "when you mouse over the code. Press this, and the code in that cell will run.\n",
    "\n",
    "In every lesson, anytime you need to write code or answer a question, the appropriate cell should be available \n",
    "where you need it. However, if it isn't, you can insert one yourself (by inserting a \"code\" or \"markdown\" (text) cell \n",
    "in your editor, as appropriate - I leave figuring out how to do that as an exercise to the student). "
   ]
  },
  {
   "cell_type": "markdown",
   "metadata": {},
   "source": [
    "## Housekeeping\n",
    "Now, to get a few basic things out of the way before we get to the good stuff.\n",
    "\n",
    "First, if you're reading this, you're probably using Visual Studio Code (or the web version of it). These lessons will assume as \n",
    "much. If you're using JupyterLab or some other Jupyter-compatible editor, you'll probably have to adapt any instructions \n",
    "that refer to VS Code to whatever workflow you're using. Regardless, you'll need to be able to edit these files. Worst \n",
    "case scenario, printing them out on paper and treating them like traditional homework can work, though you won't get \n",
    "the benefit of interactive feedback.\n",
    "\n",
    "Second, these lessons are written to be compact yet understandable and educational. As such, most lessons\n",
    "won't cover everything about their topic(s), and may even fudge the truth a little, to simplify it a bit.\n",
    "If you have a question about something, and it isn't covered here, asking your question is a very good thing,\n",
    "either to the Internet (e.g. Google or Stack Overflow), or, if available, a mentor. Trust me, that's what we're here for. \n",
    "A question you might think is dumb might actually be a really good opportunity to learn - programming tends\n",
    "to be like that - but first you have to ask.\n",
    "\n",
    "Finally, ***don't forget to save you're work!*** There's no worse feeling than working on something for a while,\n",
    "only to accidentally close your work without saving. To help reinforce this, it's recommended you use Git to\n",
    "track your lessons. It's likely you already used it once to download these lessons, so keep using it, and \n",
    "you won't lose your work near as often."
   ]
  },
  {
   "cell_type": "markdown",
   "metadata": {},
   "source": [
    "## Lesson Structure \n",
    "\n",
    "Generally, most lessons will follow the structure of introducing a topic, introducing its syntax, then giving an example or \n",
    "two demonstrating the basic idea. Most lessons cover multiple smaller topics that are part of a larger lesson, so this will \n",
    "be repeated. Throughout the lessons, unless otherwise noted, examples will be interactive, so you can modify the code \n",
    "in the example and explore it deeper. In fact, most examples rely on this, demonstrating the basic idea but not necessarily \n",
    "all of the exceptions and corner cases unless one or more is critical. It's up to you to explore, since that's how you'll \n",
    "learn best.\n",
    "\n",
    "Each lesson will be ended with a series of exercises that you can answer within the document itself. There are two primary \n",
    "forms of exercise: short answer, and code. The short answers can be anything from fill-in-the-blank to giving a short \n",
    "explanation of something or writing a paragraph or so. The exact nature of an answer will generally be left up to you, and \n",
    "the discretion of your grader. To answer a short answer exercise, double click on the area below that says something like \n",
    "`Empty markdown cell`. From there, you can write to your heart's content. To finish, press Escape, or just move on.\n",
    "\n",
    "Code exercises will give you some problem, and expect you to write a working solution to it, using the concepts you learned \n",
    "in the lesson (i.e. if you find a \"clever trick\" around the problem, you're probably doing it wrong). Later lessons may also \n",
    "have runnable code that grades the solutions to your code problems. These graders will use techniques and concepts you \n",
    "haven't learned yet at that point, or the lessons themselves don't cover, so reading them (or even using them), while \n",
    "optional, is highly recommended. However, do not modify this code, as almost any change will break grading."
   ]
  },
  {
   "cell_type": "markdown",
   "metadata": {},
   "source": [
    "#### Syntax Rules\n",
    "If a section is introducing a new element of Python that you haven't seen before, or at least haven't \n",
    "knowingly seen, that section will have a block of *pseudo-code* that describes the general, syntactical \n",
    "pattern of the new concept. This pseudo-code will following the following rules.\n",
    "- `<name-in-angle-brackets>` - This indicates that you are supposed to replace the angle brackets and \n",
    "  it's contents by whatever the contents describes. For example `<variable-name>` means you're supposed to \n",
    "  replace the angle brackets and \"variable-name\" with the actual name of a variable.\n",
    "- `plain text` - This text is meant literally. If you change whatever the text is, it will change the \n",
    "  results of your code, and probably won't work. This includes any text that isn't otherwise given meaning here.\n",
    "- `[text in square brackets]` - Any text in square brackets is meant to indicate an optional part of the \n",
    "  syntax. If you exclude the contents of the square brackets, your code will still be syntactically valid\n",
    "- `# Comments` - Comments are a way to leave messages in code that don't affect execution. In the case of \n",
    "  this syntax, it's meant to clarify and indicate something, and is not meant to be there when you actually \n",
    "  use the template. Comments will be explained further below."
   ]
  },
  {
   "cell_type": "markdown",
   "metadata": {},
   "source": [
    "# Hello, World!\n",
    "Now that all of that business is out of the way, let's get to the actual programming part!\n",
    "\n",
    "It's common practice in the programming world that the first program you write be one that prints out [\"Hello, world!\"](https://en.wikipedia.org/wiki/%22Hello,_World!%22_program), or some version of that message. So, not being one to deviate from a fun \n",
    "tradition, that's the first program you'll explore! This will also be a chance for you to \n",
    "familiarize yourself with the structure of lessons."
   ]
  },
  {
   "cell_type": "markdown",
   "metadata": {},
   "source": [
    "### Saying Hello!\n",
    "Hello World in Python is incredibly simple. One line in fact! Here it is, in all it's glory!"
   ]
  },
  {
   "cell_type": "code",
   "execution_count": 7,
   "metadata": {},
   "outputs": [
    {
     "name": "stdout",
     "output_type": "stream",
     "text": [
      "JeffJe\n"
     ]
    }
   ],
   "source": [
    "# Prints \"Not Jeff\"\n",
    "print(\"JeffJe\")"
   ]
  },
  {
   "cell_type": "markdown",
   "metadata": {},
   "source": [
    "Huh. Well that was a little underwhelming. But understanding what's going on here is an important first step \n",
    "to understanding Python."
   ]
  },
  {
   "cell_type": "markdown",
   "metadata": {},
   "source": [
    "### Printing\n",
    "Most of the time, when somebody talks about printing, they usually mean printing something out on paper, \n",
    "using ink and something like a desktop printer. And sometimes that's what programmers mean too, but more often, when \n",
    "someone talks about printing in code, they mean the more general definition of displaying something \n",
    "on some medium, usually the computer's screen. In this case, in Jupyter, the message is being printed \n",
    "right below the code because that's just how that works in this context. \n",
    "\n",
    "In Python, printing is done by calling the `print` function. We'll talk more later about what \n",
    "functions are, what they look like, and what they can do. For now, you just need to know that you print\n",
    "by writing \"print\", followed by a pair of parentheses that contain whatever you want to print (foreshadowing: you \n",
    "can print so much more than just text). Try messing around with the code above to see how \n",
    "changing it changes the behaviour. Notice how deleting some things just breaks it entirely, printing an \n",
    "error message, while others only change the message.\n",
    "\n",
    "If you do change it, and forget what it looked like, here's the original for reference: `print(\"Hello, world!\")`."
   ]
  },
  {
   "cell_type": "markdown",
   "metadata": {},
   "source": [
    "### Strings\n",
    "In order to print something, you need something to print. [Tautology](https://en.wikipedia.org/wiki/Tautology_(logic)) aside, \n",
    "In the Hello World program, the thing being printed is a message. More formally, it's a sequence of *characters* that are \n",
    "combined to form a more complex piece of data. This concept is called a *string*. We'll talk more about these in a later\n",
    "lesson, but all you need to know for now is that a string is a sequence of characters, or \"text\" (though it can be anything, \n",
    "including non-Latin alphabets, or even emoji), that is contained in a pair of either *single-quotes* (') or *double-quotes* (\"). Single-quotes tend to \n",
    "be the preferred style in the Python community at large, but they're completely equivalent, as long as they're paired. \n",
    "That is, you can't start a string with ' and end it with \", or vice versa. Whichever style you choose, *be consistent*."
   ]
  },
  {
   "cell_type": "markdown",
   "metadata": {},
   "source": [
    "### Comments\n",
    "A comment is any part of a line of code after a hash† (#). Comments are bits of text that have no impact on the program, \n",
    "and are purely there for documentation purposes. Most often, they're used to explain a bit of code that \n",
    "might otherwise be rather opaque. \n",
    "\n",
    "It's a good practice to write comments to explain your code. Just make \n",
    "sure they add value, and aren't just making the code look even more cluttered. The comment in the example above \n",
    " is not an example of a good comment. In that case, it would be better to have no comment at all, \n",
    "since someone comfortable with Python should be able to immediately see what the code does.\n",
    "\n",
    "\n",
    "† The \"#\" is not a \"hashtag\", and most programmers will cringe or give you a nasty look if you call it that. \n",
    "Call it what you like: \"hash\", \"pound\", \"[octothorpe](https://en.wikipedia.org/wiki/Number_sign#Other_names_in_English)\", etc. \n",
    "Just not \"hashtag\". A hashtag refers to the whole thing, which is a *tag* that starts with a *hash*."
   ]
  },
  {
   "cell_type": "markdown",
   "metadata": {},
   "source": [
    "## Exercises\n",
    "1. What language are you learning?"
   ]
  },
  {
   "cell_type": "markdown",
   "metadata": {},
   "source": [
    "python(interpreted)"
   ]
  },
  {
   "cell_type": "markdown",
   "metadata": {},
   "source": [
    "2. What are the four categories of section of a lesson?"
   ]
  },
  {
   "cell_type": "markdown",
   "metadata": {},
   "source": [
    "Introducing a topic, intoducing topic syntax, examples demonstrating basic idea, and exercises."
   ]
  },
  {
   "cell_type": "markdown",
   "metadata": {},
   "source": [
    "3. Have you saved your work yet?"
   ]
  },
  {
   "cell_type": "markdown",
   "metadata": {},
   "source": [
    "yes"
   ]
  },
  {
   "cell_type": "markdown",
   "metadata": {},
   "source": [
    "4. Using the Hello World syntax as a guide, write a program that prints the message \"Hi, my name is &lt;your-name&gt;\". <br>(Actually print your name, not just \"&lt;your-name&gt;\". Remember the syntax guide rules)"
   ]
  },
  {
   "cell_type": "code",
   "execution_count": 11,
   "metadata": {},
   "outputs": [
    {
     "name": "stdout",
     "output_type": "stream",
     "text": [
      "Hi, my name is Yasmina\n"
     ]
    }
   ],
   "source": [
    "print(\"Hi, my name is Yasmina\")"
   ]
  },
  {
   "cell_type": "markdown",
   "metadata": {},
   "source": [
    "5. What is the purpose of a comment?"
   ]
  },
  {
   "cell_type": "code",
   "execution_count": null,
   "metadata": {},
   "outputs": [],
   "source": [
    "#They have no purpose for the code but are just there for documentation."
   ]
  },
  {
   "cell_type": "markdown",
   "metadata": {},
   "source": [
    "6. Fix this code so that it correctly prints \"I'm a programmer!\"."
   ]
  },
  {
   "cell_type": "code",
   "execution_count": 12,
   "metadata": {},
   "outputs": [
    {
     "name": "stdout",
     "output_type": "stream",
     "text": [
      "Im a programmer!\n"
     ]
    }
   ],
   "source": [
    "print (\"Im a programmer!\")"
   ]
  }
 ],
 "metadata": {
  "interpreter": {
   "hash": "aee8b7b246df8f9039afb4144a1f6fd8d2ca17a180786b69acc140d282b71a49"
  },
  "kernelspec": {
   "display_name": "Python 3.10.4 64-bit",
   "language": "python",
   "name": "python3"
  },
  "language_info": {
   "codemirror_mode": {
    "name": "ipython",
    "version": 3
   },
   "file_extension": ".py",
   "mimetype": "text/x-python",
   "name": "python",
   "nbconvert_exporter": "python",
   "pygments_lexer": "ipython3",
   "version": "3.10.7"
  },
  "orig_nbformat": 4
 },
 "nbformat": 4,
 "nbformat_minor": 2
}
