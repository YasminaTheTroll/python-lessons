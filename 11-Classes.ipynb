{
 "cells": [
  {
   "cell_type": "markdown",
   "metadata": {},
   "source": [
    "# Lesson 11 - Classes and Objects\n",
    "\n",
    "You may have noticed in the project you just did (if you haven't done that yet, go back and do it), that every single \n",
    "function took the same value, `inventory`. Wouldn't it be nice if there was some way that that value was just implied?\n",
    "That it (more or less) just existed within the function, without having to worry about the outside world messing with it?\n",
    "This is where *classes* come into play. Note that nothing we'll learn here is novel. Rather, classes represent a different \n",
    "way to organized data and behaviour.\n",
    "\n",
    "Buckle up, this is going to be a long one!"
   ]
  },
  {
   "cell_type": "markdown",
   "metadata": {},
   "source": [
    "### Classes\n",
    "\n",
    "A class is, conceptually, just a description of some kind of data, and also has a set of behaviours. That is, it describes \n",
    "a *class* of things (hence the name). This has a great deal of implications, some of which we'll talk about, but for now, \n",
    "we'll just look at basic syntax.\n",
    "\n",
    "```\n",
    "class <class-name>:\n",
    "    # class contents\n",
    "```\n",
    "\n",
    "And here's an example of that in code."
   ]
  },
  {
   "cell_type": "code",
   "execution_count": 1,
   "metadata": {},
   "outputs": [],
   "source": [
    "class ExampleClass:\n",
    "    pass"
   ]
  },
  {
   "cell_type": "markdown",
   "metadata": {},
   "source": [
    "\n",
    "Pretty simple! Well, simple, but also nearly useless.\n",
    "\n",
    "You'll notice a few new/different things here. Instead of using our normal snake_case for the class name, we used TitleCase. \n",
    "This is standard for Python, and most class names will be written using TitleCase. This isn't a requirement, but it's a \n",
    "useful convention (this way, you can tell at a glance whether a name you haven't seen before is a variable/function or a class).\n",
    "The other new thing is `pass`. All that does is tells Python to skip reading that code block. Generally, it's used to mean \n",
    "that the block does nothing, usually indicating something to be implemented later, but we just need it to run without erroring \n",
    "right now. Generally, you'll never use it in the final version of your code, but it's a useful placeholder.\n",
    "\n",
    "\n",
    "Now, back to our boring `class`. Let's spice it up a little bit by giving it a basic identity. We'll start off by giving the \n",
    "class some kind of data."
   ]
  },
  {
   "cell_type": "markdown",
   "metadata": {},
   "source": [
    "### Class Variables\n",
    "\n",
    "The first thing we can do to give our class some kind of identity is to give it values. We can create a class variable by \n",
    "simply creating a variable inside of the class, the same way we would create any other kind of variable."
   ]
  },
  {
   "cell_type": "code",
   "execution_count": null,
   "metadata": {},
   "outputs": [],
   "source": [
    "# giving it this name overwrites the previous example\n",
    "class ExampleClass:\n",
    "    example_variable = 42"
   ]
  },
  {
   "cell_type": "markdown",
   "metadata": {},
   "source": [
    "Well, this looks about as exciting as the previous example (and it kind of is). The difference is that we've now declared \n",
    "a class variable inside of `ExampleClass`. The \"exciting\" bit is that we can access the variable, and use it just like \n",
    "any other variable. \n",
    "\n",
    "We access the contents of a class by using something called the *dot operator*. We've used this before, but we didn't really\n",
    "talk about what it was. We can access class variables by writing the name of the class, followed by a dot (`.`), then the \n",
    "name of the variable we want to access, like so."
   ]
  },
  {
   "cell_type": "code",
   "execution_count": 2,
   "metadata": {},
   "outputs": [
    {
     "ename": "AttributeError",
     "evalue": "type object 'ExampleClass' has no attribute 'example_variable'",
     "output_type": "error",
     "traceback": [
      "\u001b[1;31m---------------------------------------------------------------------------\u001b[0m",
      "\u001b[1;31mAttributeError\u001b[0m                            Traceback (most recent call last)",
      "Cell \u001b[1;32mIn [2], line 1\u001b[0m\n\u001b[1;32m----> 1\u001b[0m \u001b[39mprint\u001b[39m(ExampleClass\u001b[39m.\u001b[39;49mexample_variable)\n",
      "\u001b[1;31mAttributeError\u001b[0m: type object 'ExampleClass' has no attribute 'example_variable'"
     ]
    }
   ],
   "source": [
    "print(ExampleClass.example_variable)"
   ]
  },
  {
   "cell_type": "markdown",
   "metadata": {},
   "source": [
    "There we go! Now we have a variable inside of a class. Now, you might wonder as how this is different from a regular variable.\n",
    "Well, functionally speaking, it really isn't. It's just a variable with the extra context of the class. That said, that can be \n",
    "extremely helpful for organization when designing your software.\n",
    "\n",
    "It's important to note that a variable declared in a class is only a class variable if it's declared outside of any functions. \n",
    "If you declare a variable in a function in the usual way, then it's strictly local to that function, and won't be visible to \n",
    "the class.\n",
    "\n",
    "Now, let's cover the real power of classes: objects!"
   ]
  },
  {
   "cell_type": "markdown",
   "metadata": {},
   "source": [
    "### Objects\n",
    "\n",
    "An object is best described as a *thing* (technical term™ alert!). More seriously, an object is what we call an *instance* of \n",
    "a class. An analogy might be your pet `Dog`, `Sparkles`. In this case, `Dog` is the class, and `Sparkles` is an object of \n",
    "type `Dog`. That is, `Dog` is an abstract concept, and `Sparkles` is a specific case of `Dog`.\n",
    "\n",
    "When we want to create an instance of an object in Python, all we need to do is write the name of our class, followed by \n",
    "a pair of parentheses. This is almost like we're calling a function named after our class (because we kind of are - more on \n",
    "that in a bit). Let's look at an example of this."
   ]
  },
  {
   "cell_type": "code",
   "execution_count": null,
   "metadata": {},
   "outputs": [],
   "source": [
    "# Out new object of type ExampleClass\n",
    "foo = ExampleClass()\n",
    "\n",
    "# Let's make another for kicks!\n",
    "bar = ExampleClass()"
   ]
  },
  {
   "cell_type": "markdown",
   "metadata": {},
   "source": [
    "There! We now have two objects of type `ExampleClass`. These two objects have separate identities, but both can be \n",
    "described by `ExampleClass`. How about we play around with that class variable we created before."
   ]
  },
  {
   "cell_type": "code",
   "execution_count": 4,
   "metadata": {},
   "outputs": [
    {
     "ename": "NameError",
     "evalue": "name 'foo' is not defined",
     "output_type": "error",
     "traceback": [
      "\u001b[1;31m---------------------------------------------------------------------------\u001b[0m",
      "\u001b[1;31mNameError\u001b[0m                                 Traceback (most recent call last)",
      "Cell \u001b[1;32mIn [4], line 2\u001b[0m\n\u001b[0;32m      1\u001b[0m \u001b[39m# Both can access example_variable\u001b[39;00m\n\u001b[1;32m----> 2\u001b[0m \u001b[39mprint\u001b[39m(foo\u001b[39m.\u001b[39mexample_variable)\n\u001b[0;32m      3\u001b[0m \u001b[39mprint\u001b[39m(bar\u001b[39m.\u001b[39mexample_variable)\n\u001b[0;32m      5\u001b[0m \u001b[39m# Let's change bar's example_variable\u001b[39;00m\n",
      "\u001b[1;31mNameError\u001b[0m: name 'foo' is not defined"
     ]
    }
   ],
   "source": [
    "# Both can access example_variable\n",
    "print(foo.example_variable)\n",
    "print(bar.example_variable)\n",
    "\n",
    "# Let's change bar's example_variable\n",
    "bar.example_variable = 52\n",
    "# This should reflect it as expected\n",
    "print(bar.example_variable)\n",
    "\n",
    "# Let's check on foo\n",
    "print(foo.example_variable)"
   ]
  },
  {
   "cell_type": "markdown",
   "metadata": {},
   "source": [
    "Uh oh... What happened to both instances having separate identities? They both have the same value for `example_variable`\n",
    "after it was changed! \n",
    "\n",
    "Well, that's how class variables work. The variable itself is shared across all instances of the class. If we want each \n",
    "instance to have its own value, then we need to take a different approach. But first, we need to introduce another concept \n",
    "before we can get there."
   ]
  },
  {
   "cell_type": "markdown",
   "metadata": {},
   "source": [
    "### Constructors\n",
    "\n",
    "Remember how we said that creating a new instance of a function was kind of like treating it as a function? Well, the \n",
    "constructor is that function you're calling. A constructor, at its core, is a special function that gets called when\n",
    "you instantiate an object, in order to set up your object into a usable state. However, aside from its special behaviour, \n",
    "it looks and behaves the same as any other function:\n",
    "\n",
    "```\n",
    "class <class-name>:\n",
    "    # The constructor\n",
    "    def __init__(self[, <other-parameters>]):\n",
    "        # initializing the object\n",
    "```\n",
    "\n",
    "Okay, there's a fair bit to unpack here. First, you can see we defined a function called `__init__`. This is a special \n",
    "name that indicates that this function is the constructor. Then we have our first parameter named `self`. This parameter \n",
    "is the object itself that you are creating, and it is required that you have that there for a constructor. You can change \n",
    "the name if you don't like \"self\" - there's nothing special about the name - but that name is the general convention used \n",
    "in Python. We'll talk more about self over the course of this lesson. Then, we can optionally have other parameters. \n",
    "This is where our function looks more like a normal function. By putting an parameters here, you can specify any values \n",
    "you want to get passed in when the constructor is called. Speaking of..."
   ]
  },
  {
   "cell_type": "markdown",
   "metadata": {},
   "source": [
    "#### Calling a Constructor\n",
    "\n",
    "We've already touched on this a little bit, but since a constructor is a function, you need to call it for it to do \n",
    "anything. We can do this by writing the class' name, followed by parentheses. But now we know that we can pass values \n",
    "into the constructor, so if our constructor has any parameters, we can put those values between the parentheses, just \n",
    "like any other function. Here's an example to both illustrate creating and using a constructor."
   ]
  },
  {
   "cell_type": "code",
   "execution_count": null,
   "metadata": {},
   "outputs": [],
   "source": [
    "class HelloBot:\n",
    "    def __init__(self, name):\n",
    "        print(\"Hello, {}\".format(name))\n",
    "\n",
    "HelloBot(\"Jasmine\")"
   ]
  },
  {
   "cell_type": "markdown",
   "metadata": {},
   "source": [
    "Ignore the \"__main__.HelloBot\" bit. That's just what the object looks like when converted to a string.\n",
    "\n",
    "See how we called the constructor? Same as before, except now we can give it an argument. Now, you may have \n",
    "noticed that our `__init__` function took 2 parameters, but we're only giving it one. This is a quirk \n",
    "of how objects work in Python. Basically, for functions in a class, Python fills in the first parameter \n",
    "for us with the value of the object that we're calling the function on. For a constructor, this means that \n",
    "the Python gives us the empty husk of the object we're creating, and it's our job to fill it in. We'll talk \n",
    "about how to do this next.\n",
    "\n",
    "Also note that we never directly called `__init__`? That's because this is part of what Python does for us. \n",
    "There's some background work that has to be done to get any Python object, so it lets us define `__init__` to\n",
    "tell it what we want it to do specifically for our object, then it does the rest of the nitty-gritty stuff and \n",
    "calls our `__init__` when it needs it.\n",
    "\n",
    "You'll also notice that we never `return` `self` from `__init__`, but we still get the new object out of it. \n",
    "This is because of the same nitty-gritty stuff that lets us not call `__init__` directly. All we need to do in \n",
    "`__init__` is set up the object - Python handles the rest."
   ]
  },
  {
   "cell_type": "markdown",
   "metadata": {},
   "source": [
    "### Instance Variables\n",
    "\n",
    "Instance variables, often referred to also as *member variables*, are a kind of variable specific to classes that each\n",
    "have their own, independent value for each instance of that class. That is, each object has it's own version, unaffected \n",
    "by the others. This is different from class variables since class variables are shared across all instances of the class, \n",
    "and any changes to that variable are reflected across each object. You can create an instance variable like so.\n",
    "\n",
    "```\n",
    "class <some-class>:\n",
    "    def __init__(self[, <other-parameters>]):\n",
    "        self.<instance-variable-name> = <some-value>\n",
    "```\n",
    "\n",
    "Here, again, we see that dot operator (`.`). Since we're applying this to `self` that means we're accessing a variable \n",
    "inside of `self`, or creating it if it doesn't exist. However, since `self` is the specific instance of the class, \n",
    "it won't be shared across every instance of the class, instead only being available to that individual object. Let's \n",
    "revisit our HelloBot example, but using an instance variable instead."
   ]
  },
  {
   "cell_type": "code",
   "execution_count": null,
   "metadata": {},
   "outputs": [],
   "source": [
    "class HelloBot:\n",
    "    def __init__(self, name):\n",
    "        self.greeting = \"Hello, {}\".format(name)\n",
    "\n",
    "jas = HelloBot(\"Jasmine\")\n",
    "print(jas.greeting)"
   ]
  },
  {
   "cell_type": "markdown",
   "metadata": {},
   "source": [
    "You can see here that we can access instance variables outside the object the same way we access class variables, using \n",
    "the dot operator. The difference here is that we can create two different `HelloBot`s, and the message will be different."
   ]
  },
  {
   "cell_type": "code",
   "execution_count": null,
   "metadata": {},
   "outputs": [],
   "source": [
    "nik = HelloBot(\"Nikolaus\")\n",
    "sym = HelloBot(\"Symone\")\n",
    "\n",
    "print(nik.greeting)\n",
    "print(sym.greeting)"
   ]
  },
  {
   "cell_type": "markdown",
   "metadata": {},
   "source": [
    "And our two objects are independent! But there's one problem with our code. Generally, it's bad practice to access \n",
    "instance variables outside of an object, since there's a chance you'll give it some value that the object isn't \n",
    "prepared to handle. Instead, it's better practice to access them through functions, which is our next topic."
   ]
  },
  {
   "cell_type": "markdown",
   "metadata": {},
   "source": [
    "### Member Functions\n",
    "\n",
    "Member functions, often referred to as *methods* (finally, we're covering what these are!), are functions that work on \n",
    "specific instances of an object. That is, they can access member variables of an object, not just the class. Defining \n",
    "a method is very similar to defining the constructor (because the constructor actually is a method, just a special one). \n",
    "All you do is write a function inside of your class, with a special parameter `self`, then otherwise you write your \n",
    "function like normal. Then you can call them using our good ol' dot operator, but using the object of the left, rather \n",
    "than the class. Here's `HelloBot`, but now written well, using a method."
   ]
  },
  {
   "cell_type": "code",
   "execution_count": null,
   "metadata": {},
   "outputs": [],
   "source": [
    "class HelloBot:\n",
    "    def __init__(self, name):\n",
    "        # member variables can share names with parameters. There's no semantic connection.\n",
    "        self.name = name\n",
    "    \n",
    "    def greet(self):\n",
    "        print(\"Hello, {}\".format(self.name))\n",
    "\n",
    "# We don't have to save the new object in a variable to use it. We can just use the result immediately.\n",
    "HelloBot(\"Genson\").greet()"
   ]
  },
  {
   "cell_type": "markdown",
   "metadata": {},
   "source": [
    "Here, in addition to seeing `HelloBot` written properly and as safely as reasonable, you can see a few of the features of methods. \n",
    "We store `name` in `self.name` in our constructor which lets us store `name` for later use with our object. And \n",
    "we do use it, in our new method `greet`. See again that it has the special parameter `self`, which we can use to access `name` \n",
    "for our message. This is because the `self` we use in `greet` is referring to the same object as the `self` in `__init__`.\n",
    "\n",
    "Note that `self` being used in both methods doesn't mean that they are the same variable somehow shared across functions, \n",
    "like some exception to the scoping rule. Rather, it just means that Python gives you the same value both times, effectively \n",
    "sharing the value between the functions. We could change the `self` in `greet` to something like `this` (literally the word \"this\"), \n",
    "and it would still work the same, as long as both the parameter and the usage changed. This is similar to what you did in \n",
    "Project 2, with `inventory` being shared between functions, as the first parameter (what a shocking coincidence! It's almost \n",
    "like that project was a setup for this lesson!).\n",
    "\n",
    "Keep in mind that methods can have more parameters than just self, we've only limited ourselves to that in the previous example \n",
    "because that makes the most sense in this context."
   ]
  },
  {
   "cell_type": "markdown",
   "metadata": {},
   "source": [
    "## A Brief Interlude\n",
    "\n",
    "Good work making it this far! This is a lot to process, and pretty radically different from everything we've \n",
    "covered so far. Yet, when you dig into it, it's everything we've covered so far, just organized a little \n",
    "differently. \n",
    "\n",
    "However, now we're going to move on to something a little less like what we've seen and more specific to classes \n",
    "and a concept called *object-oriented programming*."
   ]
  },
  {
   "cell_type": "markdown",
   "metadata": {},
   "source": [
    "### Inheritance\n",
    "\n",
    "When you think about the concept of classification, it's natural to think of sub-classifications that provide a \n",
    "narrower but often more useful definition. For example, when we talked about `Sparkle` earlier, we didn't say what \n",
    "kind of `Dog` it was, just that it was one. But just saying something is a dog isn't very helpful for describing it. \n",
    "It could be a `Mastiff`, a `ShihTzu`, or a `Mutt`. These are all more narrow classifications, but all of them still \n",
    "describe `Dog`s. One could say these classifications *inherit* the attributes of `Dog`, and add their own meaning on \n",
    "top of it.\n",
    "\n",
    "Now, this isn't the best analogy for inheritance in programming, since it's so much more powerful, and odds are this \n",
    "would be better represented by `Dog` objects with a member variable describing the breed, but it's good enough to \n",
    "get the basic concept across. Inheritance in Python is when one class is a more specific version of another class, and \n",
    "there is a relationship between the two. Syntactically, it looks like this.\n",
    "```\n",
    "class <class-name>(<superclass-name>):\n",
    "    # class business as usual\n",
    "```\n",
    "Really, it's not that big a change, but what it gives you is extremely important. A class that inherits from a \n",
    "*superclass* will immediately have all the functions and variables the superclass has, without you needing to type \n",
    "anything other than the superclass in parentheses. Let's model the `Dog` analogy as an example."
   ]
  },
  {
   "cell_type": "code",
   "execution_count": null,
   "metadata": {},
   "outputs": [],
   "source": [
    "class Dog:\n",
    "    def __init__(self, name):\n",
    "        self.name = name\n",
    "    \n",
    "    def bark(self):\n",
    "        print(\"Bark!\")\n",
    "\n",
    "class Mastiff(Dog):\n",
    "    # we'll leave this empty for now\n",
    "    pass\n",
    "\n",
    "bull = Mastiff(\"Bull\")\n",
    "bull.bark()"
   ]
  },
  {
   "cell_type": "markdown",
   "metadata": {},
   "source": [
    "Here we see that despite not defining a constructor or the `bark` method, `Mastiff` still has access to them because \n",
    "they were defined in `Dog`, and `Mastiff` inherits from `Dog`. \n",
    "\n",
    "Sidebar: We call this an \"is a\" relationship because a `Mastiff` \"is a\" `Dog`. The other kind of relationship is a \"has a\"\n",
    "relationship. This is modelled by `Dog`'s `name`. That is, a `Dog` \"has a\" `name`. When you're designing a class, it's \n",
    "important to determine whether a class has something or is something. If the class \"has\" it, then it should be a member \n",
    "variable. If the class \"is\" it, then it should be modelled by inheritance (within limits of sanity).\n",
    "\n",
    "For reference, inheritance is implied by several different phrases you'll hear commonly. The most technically accurate way, \n",
    "is using the terms *superclass* and *subclass*, \"super-\" meaning above and \"sub-\" meaning below, implying the subclass \n",
    "inherits from the superclass. Another common phrasing is *parent* and *child*, implying the child class inherits from the \n",
    "parent class. The other most common term is saying that class B *extends* class A. That is, A is the superclass, and B is \n",
    "the subclass. All of these terms generally mean the same thing, but you need to be aware of all of them, because they are \n",
    "all commonly used."
   ]
  },
  {
   "cell_type": "markdown",
   "metadata": {},
   "source": [
    "### Method Overriding\n",
    "\n",
    "But what if we want our `Dog`s to make different sounds? I think we can all agree that while a `Mastiff` and a `ShihTzu` \n",
    "both bark, the sounds that they make are very different. This is where *overriding* comes into play. Similar to how \n",
    "we can overwrite a function by creating a new function with the same name, we can override a superclass' method by \n",
    "creating a method in our subclass with the same name, like so."
   ]
  },
  {
   "cell_type": "code",
   "execution_count": null,
   "metadata": {},
   "outputs": [],
   "source": [
    "class Mastiff(Dog):\n",
    "    def bark(self):\n",
    "        print(\"WOOF!\")\n",
    "\n",
    "class ShihTzu(Dog):\n",
    "    def bark(self):\n",
    "        print(\"Yip!\")\n",
    "\n",
    "Mastiff(\"Tiny\").bark()\n",
    "ShihTzu(\"Tim\").bark()\n",
    "Dog(\"Clifford\").bark()"
   ]
  },
  {
   "cell_type": "markdown",
   "metadata": {},
   "source": [
    "Now we have two different *subclasses* of `Dog`, that each provide their own unique behaviour. And `Dog` remains unaffected! \n",
    "So if we wanted to add another breed, we could do so without any difficulty (hm... this sounds like a good exercise).\n",
    "\n",
    "It's also worth noting that member variables and class variables are also inherited, and you can access them the same \n",
    "way you would normally. However, you can't override them like you can methods, since that will just give the variable a new \n",
    "value, not create a new variable. Generally, it's confusing to access variables that weren't defined in the same general \n",
    "area of the code, so you will usually want to avoid messing with inherited variables unless you have a really good (and \n",
    "well-documented) reason. \n",
    "\n",
    "We also aren't limited to overriding old methods in subclasses. We can create new methods, in addition to the old ones, \n",
    "which is often useful because the more specific case can usually describe more behaviours, since it doesn't have to be \n",
    "as general. "
   ]
  },
  {
   "cell_type": "markdown",
   "metadata": {},
   "source": [
    "#### `super`\n",
    "\n",
    "Whenever you override a function, it's sometimes useful to call the method you're overriding, since you're trying to add \n",
    "behaviour, rather than replace it. To do this, you can use the `super` function. `super` is a special function that \n",
    "basically returns the superclass of the current class. Any methods you call on that object will be from the perspective \n",
    "of the superclass, meaning that if you call the method you're overriding, it will refer to the superclass, not the current\n",
    "class.\n",
    "\n",
    "Generally, you'll use this to call the `__init__` function of a superclass in your own constructor. This is one of the only \n",
    "times you will ever need to call `__init__` directly. This will look something like\n",
    "```\n",
    "def __init__(self, <some-parameters>):\n",
    "    super().__init__(<superclass-arguments>)\n",
    "    # rest of the constructor\n",
    "```\n",
    "\n",
    "When exactly you call `super` is dependent on what you're doing and the exact side effects. Sometimes it's better to call it \n",
    "at the end, but most often you'll call it first, since it does the setup for your superclass(es)."
   ]
  },
  {
   "cell_type": "markdown",
   "metadata": {},
   "source": [
    "# Exercises"
   ]
  },
  {
   "cell_type": "markdown",
   "metadata": {},
   "source": [
    "1. In general terms, what is a class? What is the difference between a class and an object?"
   ]
  },
  {
   "cell_type": "markdown",
   "metadata": {},
   "source": []
  },
  {
   "cell_type": "markdown",
   "metadata": {},
   "source": [
    "2. What is a class variable?"
   ]
  },
  {
   "cell_type": "markdown",
   "metadata": {},
   "source": []
  },
  {
   "cell_type": "markdown",
   "metadata": {},
   "source": [
    "3. What is a member variable? How is it different from a class variable?"
   ]
  },
  {
   "cell_type": "markdown",
   "metadata": {},
   "source": []
  },
  {
   "cell_type": "markdown",
   "metadata": {},
   "source": [
    "4. What is a member function? Broadly speaking, how is it different from a regular function?"
   ]
  },
  {
   "cell_type": "markdown",
   "metadata": {},
   "source": []
  },
  {
   "cell_type": "markdown",
   "metadata": {},
   "source": [
    "5. What is the purpose of a constructor? What is the special constructor function called?"
   ]
  },
  {
   "cell_type": "markdown",
   "metadata": {},
   "source": []
  },
  {
   "cell_type": "markdown",
   "metadata": {},
   "source": [
    "5. Write a `Printer` class that has a method that counts how many times that method has been called, including \n",
    "the current call, and returns that value. Make sure that different instances of the class keep their own counts."
   ]
  },
  {
   "cell_type": "code",
   "execution_count": null,
   "metadata": {},
   "outputs": [],
   "source": []
  },
  {
   "cell_type": "markdown",
   "metadata": {},
   "source": [
    "6. Remember our `Dog` class? Create a new class `Mutt` that extends `Dog`. Make the `Mutt`'s bark sound like \"Ruff!\"."
   ]
  },
  {
   "cell_type": "code",
   "execution_count": null,
   "metadata": {},
   "outputs": [],
   "source": []
  },
  {
   "cell_type": "markdown",
   "metadata": {},
   "source": [
    "7. Challenge: Create a class `Shape` that has `area` and `perimeter` functions. Each of these functions should take no parameters, \n",
    "other than `self`, and should return `0`. Then create the `Rectangle` and `Circle` classes, both of which inherit from \n",
    "`Shape`. For both classes, implement the functions inherited from `Shape`, using the appropriate formulas. Note that \n",
    "each constructor will need to take all the information needed to represent that specific kind of shape, but `Shape` itself \n",
    "needs no constructor, since it doesn't have any real meaning as a class.\n",
    "\n",
    "Remember, a `Rectangle` needs length and width, and a `Circle` needs the radius. Use `3.1415` for π."
   ]
  },
  {
   "cell_type": "code",
   "execution_count": null,
   "metadata": {},
   "outputs": [],
   "source": []
  },
  {
   "cell_type": "markdown",
   "metadata": {},
   "source": [
    "8. Make a class `Square` that inherits from `Rectangle`. Only override the constructor so that it takes a single argument, \n",
    "the length of all sides (since they're the same). Do not override any of the other functions. The `Rectangle` ones should \n",
    "work by default."
   ]
  },
  {
   "cell_type": "code",
   "execution_count": null,
   "metadata": {},
   "outputs": [],
   "source": []
  },
  {
   "cell_type": "markdown",
   "metadata": {},
   "source": [
    "9. (Optional) Rewrite the inventory manager from Project 2, but as a class named `Inventory`. Instead of having \n",
    "`inventory` as the first parameter of each function, that can be replaced with `self` in each method. Remember \n",
    "that you still need a way to keep track of the inventory across function calls.\n",
    "\n",
    "For the constructor, you should take a single argument: a dictionary containing the current contents of the inventory."
   ]
  },
  {
   "cell_type": "code",
   "execution_count": null,
   "metadata": {},
   "outputs": [],
   "source": []
  }
 ],
 "metadata": {
  "kernelspec": {
   "display_name": "Python 3.10.7 64-bit",
   "language": "python",
   "name": "python3"
  },
  "language_info": {
   "codemirror_mode": {
    "name": "ipython",
    "version": 3
   },
   "file_extension": ".py",
   "mimetype": "text/x-python",
   "name": "python",
   "nbconvert_exporter": "python",
   "pygments_lexer": "ipython3",
   "version": "3.10.7"
  },
  "orig_nbformat": 4,
  "vscode": {
   "interpreter": {
    "hash": "afb734500600fd355917ca529030176ea0ca205570884b88f2f6f7d791fd3fbe"
   }
  }
 },
 "nbformat": 4,
 "nbformat_minor": 2
}
