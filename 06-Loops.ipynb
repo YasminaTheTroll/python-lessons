{
 "cells": [
  {
   "cell_type": "markdown",
   "metadata": {},
   "source": [
    "# Lesson 6 - Loops\n",
    "\n",
    "Great job writing your first full program! You've done a great job making it this far! Now we get to \n",
    "start learning the stuff that makes programming fun.\n",
    "\n",
    "So far, in our various examples and exercises, you might have noticed that some of them would have \n",
    "been really nice to be able to do multiple times, without having to run the program each time. This \n",
    "is the job for our next structure: loops. \n",
    "\n",
    "In programming, a loop is a structure you use to repeat something a certain number of times. \n",
    "Conceptually, this is very simple, but the number of approaches to this idea give rise to an incredible \n",
    "amount of power. Python has two main forms of loop: `for` and `while`."
   ]
  },
  {
   "cell_type": "markdown",
   "metadata": {},
   "source": [
    "### `for` loops\n",
    "\n",
    "Conceptually, most of the time when you're looping, you want to *iterate* over some kind of sequence. \n",
    "This can be the characters of a string, the odd numbers between 10 and 100, or the contents of an \n",
    "arbitrary collection (foreshadowing!).\n",
    "\n",
    "```python\n",
    "for <variable-name> in <collection>:\n",
    "    # Do things with the elements of the collection\n",
    "```\n",
    "\n",
    "Here, `variable-name` is basically just a variable declaration. `collection` is just what it says it is.\n",
    "It's a collection of things that the loop iterates over in order, assigning each value to the variable \n",
    "you're creating with the loop.\n",
    "\n",
    "To properly introduce `for` loops, first we need to talk about another helper function: `range()`"
   ]
  },
  {
   "cell_type": "markdown",
   "metadata": {},
   "source": [
    "#### `range()`\n",
    "\n",
    "The `range` function does pretty much what it says - it generates a range of numbers.\n",
    "\n",
    "If you give it a single number, it generates a collection of numbers in increasing order from 0 to \n",
    "n-1, where n is the given number.\n",
    "\n",
    "If you give it two numbers, it generates a collection of numbers from the first number to the \n",
    "one less than the second number in increasing order.\n",
    "\n",
    "If you give it three numbers, it generates a collection of numbers from the first number up to, \n",
    "but not including the second number, by increments of the third number. It also works with negative \n",
    "increments, so you can use this to count down.\n",
    "\n",
    "Now, let's get to some examples."
   ]
  },
  {
   "cell_type": "markdown",
   "metadata": {},
   "source": [
    "#### Examples"
   ]
  },
  {
   "cell_type": "code",
   "execution_count": 1,
   "metadata": {},
   "outputs": [
    {
     "name": "stdout",
     "output_type": "stream",
     "text": [
      "1\n",
      "2\n",
      "3\n",
      "4\n",
      "5\n",
      "6\n",
      "7\n",
      "8\n",
      "9\n",
      "10\n"
     ]
    }
   ],
   "source": [
    "# Prints all the numbers from 1 to 10\n",
    "for n in range(10):\n",
    "    print(n + 1)\n",
    "    # remember, range() generates the numbers up to, but not including \n",
    "    # the given number, hence the +1"
   ]
  },
  {
   "cell_type": "code",
   "execution_count": 2,
   "metadata": {},
   "outputs": [
    {
     "name": "stdout",
     "output_type": "stream",
     "text": [
      "1\n",
      "2\n",
      "3\n",
      "4\n",
      "5\n",
      "6\n",
      "7\n",
      "8\n",
      "9\n",
      "10\n"
     ]
    }
   ],
   "source": [
    "# Same thing, but using the 2-value form of range\n",
    "for n in range(1, 11):\n",
    "    print(n)"
   ]
  },
  {
   "cell_type": "code",
   "execution_count": 3,
   "metadata": {},
   "outputs": [
    {
     "name": "stdout",
     "output_type": "stream",
     "text": [
      "0\n",
      "-1\n",
      "-2\n",
      "-3\n",
      "-4\n"
     ]
    }
   ],
   "source": [
    "# Let's count up to 10 by halves\n",
    "for n in range(0, -5, -1):\n",
    "    print(n)"
   ]
  },
  {
   "cell_type": "markdown",
   "metadata": {},
   "source": [
    "Notice in the last example that we have to specify the 0 that's implied in the first example. This is because if we \n",
    "didn't provide it, Python would think we were using the 2-value form, and wouldn't do anything, since `range` doesn't\n",
    "implicitly count down."
   ]
  },
  {
   "cell_type": "markdown",
   "metadata": {},
   "source": [
    "#### Looping with Strings\n",
    "\n",
    "You'll notice that we keep talking about \"collections\" and \"sequences\" when it comes to `for` loops. Well, if you \n",
    "remember from the first lesson, we described strings as a \"sequence of characters\". So what if, instead of using \n",
    "`range` with the `for` loop, we used a string? What would happen?"
   ]
  },
  {
   "cell_type": "code",
   "execution_count": 4,
   "metadata": {},
   "outputs": [
    {
     "name": "stdout",
     "output_type": "stream",
     "text": [
      "H\n",
      "e\n",
      "l\n",
      "l\n",
      "o\n"
     ]
    }
   ],
   "source": [
    "test_string = \"Hello\"\n",
    "for c in test_string: \n",
    "    print(c)"
   ]
  },
  {
   "cell_type": "markdown",
   "metadata": {},
   "source": [
    "Would you look at that! It looks like the `for` loop iterates over each character in the string, the same way it \n",
    "it iterates over every number in the ranges in the other examples. This isn't a coincidence, and we'll cover this \n",
    "more in the next lesson. But you can see that if you wanted to iterate over a string, that's a perfectly valid thing \n",
    "to do."
   ]
  },
  {
   "cell_type": "code",
   "execution_count": 5,
   "metadata": {},
   "outputs": [
    {
     "name": "stdout",
     "output_type": "stream",
     "text": [
      "23\n"
     ]
    }
   ],
   "source": [
    "# counts the number of letters in the test string\n",
    "test_string = \"'Tis but a flesh wound!\"\n",
    "count = 0\n",
    "for c in test_string:\n",
    "    count += 1\n",
    "print(count)"
   ]
  },
  {
   "cell_type": "markdown",
   "metadata": {},
   "source": [
    "You'll also see here that you can use loops to collect information about your collection and keep track of it outside the loop."
   ]
  },
  {
   "cell_type": "markdown",
   "metadata": {},
   "source": [
    "### `while` loops\n",
    "\n",
    "```python\n",
    "while <some-condition>:\n",
    "    # do things while <some-condition> is True\n",
    "```\n",
    "\n",
    "`for` loops are really good at iterating over collections of things. But what if you want to iterate using something \n",
    "other than a collection? For example, what if you were trying to get some kind of input from the user, but they kept \n",
    "entering it wrong, so you needed to keep prompting them for it? You could just make them run the program every time, \n",
    "but for large programs, this becomes extremely inconvenient. This is the exact kind of case that a `while` loop is \n",
    "perfect for. \n",
    "\n",
    "`while` loops keep iterating until some condition that you supply is no longer true. If the condition never becomes \n",
    "`False`, then the loop will run forever. Because of this, it is considered one of the most primitive forms of loop, \n",
    "but that also means it's incredibly flexible and powerful. Look at the following examples \n",
    "to see how it differs from a simple `for` loop.\n",
    "\n",
    "#### Examples"
   ]
  },
  {
   "cell_type": "code",
   "execution_count": 8,
   "metadata": {},
   "outputs": [
    {
     "name": "stdout",
     "output_type": "stream",
     "text": [
      "No it isn't.\n",
      "Welcome, John!\n"
     ]
    }
   ],
   "source": [
    "# Prompts the user for their name until they say their name is John\n",
    "while input(\"What is your name?\") != \"John\":\n",
    "    # This will keep looping around and printing until the user enters \"John\".\n",
    "    print(\"No it isn't.\")\n",
    "\n",
    "# Prints this after the user finally enters \"John\"\n",
    "print(\"Welcome, John!\")"
   ]
  },
  {
   "cell_type": "code",
   "execution_count": 9,
   "metadata": {},
   "outputs": [
    {
     "name": "stdout",
     "output_type": "stream",
     "text": [
      "0\n",
      "1\n",
      "2\n",
      "3\n",
      "4\n",
      "5\n",
      "6\n",
      "7\n",
      "8\n",
      "9\n"
     ]
    }
   ],
   "source": [
    "# The previous \"count to 10\" example, but with a while loop\n",
    "i = 0\n",
    "while i < 10:\n",
    "    print(i)\n",
    "    i += 1"
   ]
  },
  {
   "cell_type": "markdown",
   "metadata": {},
   "source": [
    "From this example, we can see that `for` loops are actually just a specialized form of `while` loops. You can do the \n",
    "same thing with the string example too, but we'll need to talk about a few more things before it will make sense. \n",
    "These will get covered in the next lesson on lists."
   ]
  },
  {
   "cell_type": "markdown",
   "metadata": {},
   "source": [
    "#### Sidebar: Infinite Loops\n",
    "\n",
    "At this point, you might have thought \"What if I make the condition always `True`?\" Well, This leads to a \n",
    "construct known as an *infinite loop*. That is, a loop that will ostensibly never terminate. While infinite loops \n",
    "have some very fundamental practical applications, it's likely that you won't have any good reason to use \n",
    "one for a while (and probably not in Python). Generally, they're used to wait for certain events to happen outside \n",
    "of the program, but applications that strictly need that tend to be fairly advanced, and are thus out \n",
    "of the scope of these lessons.\n",
    "\n",
    "For completeness, here's an example of what a basic infinite loop construct would look like. You can run this, but \n",
    "be warned that if you do it in VS Code, you're going to have a very bad time. (Took me 5 minutes to figure out \n",
    "how to kill it and get everything back up and running, and I still lost some work. For reference, it would \n",
    "take me about 5 seconds elsewhere, and I wouldn't lose anything). Outside of VS Code, you can press \"Ctrl+c\" \n",
    "to kill the program, which is what you'll have to do since it has no other way to stop.\n",
    "```python\n",
    "# A loop that runs forever, since the condition can, by definition, never be False\n",
    "while True:\n",
    "    print(\"You can't stop me!\")\n",
    "```\n",
    "\n",
    "Basically, just do your best to avoid writing infinite loops unless you know exactly what you're doing. It's \n",
    "almost definitely going to happen by accident, but you can delay that by always checking that your conditions \n",
    "are actually doing what you think they're doing."
   ]
  },
  {
   "cell_type": "markdown",
   "metadata": {},
   "source": [
    "### `break`\n",
    "\n",
    "Sometimes when you're working with a loop, you may find that you want to exit early. For example, you might \n",
    "be iterating over a collection of data, searching for a specific element, just to check it's there. Once you \n",
    "find it, there's no need to continue, so you would want to exit out of the loop. This is what the `break` \n",
    "statement does. \n",
    "\n",
    "`break` immediately exits from the loop it's in, continuing with the program immediately picking up \n",
    "after the loop. "
   ]
  },
  {
   "cell_type": "code",
   "execution_count": 11,
   "metadata": {},
   "outputs": [
    {
     "name": "stdout",
     "output_type": "stream",
     "text": [
      "0\n",
      "1\n",
      "2\n",
      "3\n",
      "4\n",
      "5\n",
      "6\n"
     ]
    }
   ],
   "source": [
    "# only prints the numbers less than 7\n",
    "for i in range(10):\n",
    "    if i >= 7:\n",
    "        break\n",
    "    print(i)"
   ]
  },
  {
   "cell_type": "markdown",
   "metadata": {},
   "source": [
    "Interestingly, `break` is often used in infinite loops to make them not truly infinite, but to move the loop's condition \n",
    "to a place that is either easier to read, or actually possible to track, because sometimes the condition at the top \n",
    "of the loop doesn't have enough information. Here's the \"John\" example from above, but using an infinite loop to make it \n",
    "a little more legible."
   ]
  },
  {
   "cell_type": "code",
   "execution_count": 12,
   "metadata": {},
   "outputs": [
    {
     "name": "stdout",
     "output_type": "stream",
     "text": [
      "No it isn't.\n",
      "Welcome, John!\n"
     ]
    }
   ],
   "source": [
    "while True:\n",
    "    name = input(\"What is your name?\")\n",
    "    if name == \"John\":\n",
    "        print(\"Welcome, John!\")\n",
    "        break\n",
    "    else:\n",
    "        print(\"No it isn't.\")"
   ]
  },
  {
   "cell_type": "markdown",
   "metadata": {},
   "source": [
    "Which way is better is often circumstantial, and often is up to the programmer. I would feel like the first one is safer and \n",
    "less prone to accidentally creating an infinite loop if something is changed in the future. However, the second version \n",
    "is a little less compact, and more explicit about what it's doing, making it easier to maintain in the future, albeit with \n",
    "more work. To be clear, both versions are exactly equivalent in function and probably efficiency, but both have their pros \n",
    "and cons, and which you prefer is usually a matter of opinion and style."
   ]
  },
  {
   "cell_type": "markdown",
   "metadata": {},
   "source": [
    "### `continue`\n",
    "\n",
    "As a counterpart to `break`, `continue` ends the current iteration of a loop, and moves onto the next iteration, \n",
    "starting with checking the condition. This can be useful for ignoring invalid or useless data in a collection. \n",
    "\n",
    "Generally, you probably won't find yourself using `continue` very often. However, it's important to know about \n",
    "it so you can use it when it is the best solution."
   ]
  },
  {
   "cell_type": "code",
   "execution_count": 14,
   "metadata": {},
   "outputs": [
    {
     "name": "stdout",
     "output_type": "stream",
     "text": [
      "1\n",
      "2\n",
      "4\n",
      "5\n",
      "7\n",
      "8\n",
      "10\n"
     ]
    }
   ],
   "source": [
    "# Prints the numbers that aren't multiples of 3 up to 10\n",
    "i = 0\n",
    "while i < 10:\n",
    "    i+=1\n",
    "    if i % 3 == 0:\n",
    "        continue\n",
    "    print(i)"
   ]
  },
  {
   "cell_type": "markdown",
   "metadata": {},
   "source": [
    "It's important to note that both `break` and `continue` work in both `for` and `while` loops, and they have the \n",
    "exact same effects: `break` exits, and `continue` skips to the next iteration."
   ]
  },
  {
   "cell_type": "markdown",
   "metadata": {},
   "source": [
    "# Exercises"
   ]
  },
  {
   "cell_type": "markdown",
   "metadata": {},
   "source": [
    "1. How many kinds of loops are there? List and give a basic description of each."
   ]
  },
  {
   "cell_type": "markdown",
   "metadata": {},
   "source": [
    "For loops iterate something in a sequence"
   ]
  },
  {
   "cell_type": "markdown",
   "metadata": {},
   "source": [
    "2. What does the `range` function do? How many different forms does it have? What does each form do?"
   ]
  },
  {
   "cell_type": "markdown",
   "metadata": {},
   "source": []
  },
  {
   "cell_type": "markdown",
   "metadata": {},
   "source": [
    "3. Write a loop that prints all the odd number from 0 to 30 (a `for` or `while` loop will work)."
   ]
  },
  {
   "cell_type": "code",
   "execution_count": null,
   "metadata": {},
   "outputs": [],
   "source": []
  },
  {
   "cell_type": "markdown",
   "metadata": {},
   "source": [
    "4. Solve exercise #3 using the other form of loop. If you used a `for` loop, solve it with a `while` loop, and vice versa."
   ]
  },
  {
   "cell_type": "code",
   "execution_count": null,
   "metadata": {},
   "outputs": [],
   "source": []
  },
  {
   "cell_type": "markdown",
   "metadata": {},
   "source": [
    "5. What does `break` do in a `for` loop? What about in a `while` loop?"
   ]
  },
  {
   "cell_type": "markdown",
   "metadata": {},
   "source": []
  },
  {
   "cell_type": "markdown",
   "metadata": {},
   "source": [
    "6. Without using the exponentiation operator (`**`), write a program that will raise a number to \n",
    "any integer power. Get the number and exponent from the user. Print the result.\n",
    "\n",
    "Negative exponents do not need to be accounted for."
   ]
  },
  {
   "cell_type": "code",
   "execution_count": null,
   "metadata": {},
   "outputs": [],
   "source": []
  },
  {
   "cell_type": "markdown",
   "metadata": {},
   "source": [
    "7. Write a program that will count how many \"a\"s are in a given string. For example, the text of \n",
    "this exercise would print 7. Get the string from the user."
   ]
  },
  {
   "cell_type": "code",
   "execution_count": null,
   "metadata": {},
   "outputs": [],
   "source": []
  },
  {
   "cell_type": "markdown",
   "metadata": {},
   "source": [
    "8. FizzBuzz is a classic children's game used to teach counting and numeric comprehension. It's also used arguably more often \n",
    "by programmers to learn the basics of a new programming language. The game is simple: \n",
    "- If a number is divisible by 3, print \"Fizz\".\n",
    "- If a number is divisible by 5, print \"Buzz\".\n",
    "- If a number is divisible by both, print \"FizzBuzz\".\n",
    "- Otherwise, print the number itself.\n",
    "\n",
    "Write a program that prints each number from 1 to 20, after applying this algorithm. For example, 6 would print \"Fizz\", 10\n",
    "would print \"Buzz\", 30 would print \"FizzBuzz\", and 28 would print \"28\". Numbers less than 1 will not be tested.\n",
    "\n",
    "Bonus points for making the upper limit changeable based on user input."
   ]
  },
  {
   "cell_type": "code",
   "execution_count": null,
   "metadata": {},
   "outputs": [],
   "source": []
  },
  {
   "cell_type": "markdown",
   "metadata": {},
   "source": [
    "9. The Collatz conjecture says that any number, `n`, will converge to 1 when the following formula is applied:\n",
    "- when `n` is odd, the next step is `3n + 1`\n",
    "- when `n` is even, the next step is `n/2`\n",
    "\n",
    "Write a program that counts how many steps it takes for an integer given by the user to converge to 1. Print the result.\n",
    "Numbers less than 1 will not be tested.\n",
    "\n",
    "For example, the number 23 generates the sequence 23->70->35->106->53->160->80->40->20->10->5->16->8->4->2->1, which \n",
    "has 15 steps, not including the original number. So given 23, your program should print 15."
   ]
  },
  {
   "cell_type": "code",
   "execution_count": null,
   "metadata": {},
   "outputs": [],
   "source": []
  }
 ],
 "metadata": {
  "kernelspec": {
   "display_name": "Python 3.10.7 64-bit",
   "language": "python",
   "name": "python3"
  },
  "language_info": {
   "codemirror_mode": {
    "name": "ipython",
    "version": 3
   },
   "file_extension": ".py",
   "mimetype": "text/x-python",
   "name": "python",
   "nbconvert_exporter": "python",
   "pygments_lexer": "ipython3",
   "version": "3.10.7"
  },
  "orig_nbformat": 4,
  "vscode": {
   "interpreter": {
    "hash": "afb734500600fd355917ca529030176ea0ca205570884b88f2f6f7d791fd3fbe"
   }
  }
 },
 "nbformat": 4,
 "nbformat_minor": 2
}
