{
 "cells": [
  {
   "cell_type": "markdown",
   "metadata": {},
   "source": [
    "# Lesson 3 - Interactivity, Variables, and Types\n",
    "\n",
    "In general, programs are loosely composed of 3 main components: input, computation, and output (of course, it's more \n",
    "complicated than this, practically speaking, but this is a convenient simplification). So far, we've basically covered \n",
    "ways to do 2 of these - namely computation and output. In this lesson, we'll talk about one way to get and use input, \n",
    "and also we'll take the first step to doing more sophisticated computation, rather than just the simple one-liners \n",
    "we've been doing so far."
   ]
  },
  {
   "cell_type": "markdown",
   "metadata": {},
   "source": [
    "## Making Your Code Interactive\n",
    "\n",
    "Up to now, all the code you've worked with has been completely *static*. This means that no matter how many times \n",
    "you run the code or how you run it, it will always have the exact same output. This idea has its uses (and in fact, \n",
    "there's a whole class of programming languages where this is the underlying idea), but by itself, there's not \n",
    "a whole lot it can do on a daily basis. As an analogy, and since we've mostly done math so far, think about a \n",
    "calculator. If calculators were static, like what we've seen, we would need a new calculator every time we wanted \n",
    "to do a new calculation. This presents just a bit of a problem in terms of scale (you would need an uncountably infinite \n",
    "number of calculators. Not useful when you're homework's due in an hour).\n",
    "\n",
    "What we need is some way to take change the behaviour of the program while it's running. We'll talk about how \n",
    "we can change how the program responds in later lessons, but even these don't change the fact that running the \n",
    "program in a vacuum means that what it does will never change. This means the only way to make a program truly \n",
    "interactive is to take some kind of input from the outside world. Here, we'll cover the simplest way to do this:\n",
    "getting text from the program's user."
   ]
  },
  {
   "cell_type": "markdown",
   "metadata": {},
   "source": [
    "### `input()` - Reading text\n",
    "\n",
    "To get text input to a program, Python uses a very appropriately named function: `input()`. This does pretty much exactly \n",
    "what the name implies - it gets text from the user (what exactly \"user\" means can be quite nuanced, and is beyond the \n",
    "scope of these lessons. For our purposes, \"user\" means \"the person running the code\").\n",
    "\n",
    "Whenever you call the `input` function, it will prompt the user to enter text, which the user can submit by pressing\n",
    "\"Enter\" or \"return\", depending on your keyboard. When this is done, that value that the user entered is now available to \n",
    "your code as a `string` (the text type we discussed in the previous lesson). Note that the parentheses after `input` are \n",
    "required. We'll talk more about why this is when we get to functions.\n",
    "\n",
    "Play around with this example and see if you can figure out how it works. We'll talk about it more in a bit."
   ]
  },
  {
   "cell_type": "code",
   "execution_count": 17,
   "metadata": {},
   "outputs": [
    {
     "ename": "NameError",
     "evalue": "name 'purple' is not defined",
     "output_type": "error",
     "traceback": [
      "\u001b[1;31m---------------------------------------------------------------------------\u001b[0m",
      "\u001b[1;31mNameError\u001b[0m                                 Traceback (most recent call last)",
      "Cell \u001b[1;32mIn [17], line 1\u001b[0m\n\u001b[1;32m----> 1\u001b[0m \u001b[38;5;28mprint\u001b[39m(\u001b[38;5;124m\"\u001b[39m\u001b[38;5;124mYou entered: purple\u001b[39m\u001b[38;5;130;01m\\\"\u001b[39;00m\u001b[38;5;124morange\u001b[39m\u001b[38;5;124m\"\u001b[39m \u001b[38;5;241m+\u001b[39m \u001b[38;5;28minput\u001b[39m(\u001b[43mpurple\u001b[49m) \u001b[38;5;241m+\u001b[39m \u001b[38;5;124m\"\u001b[39m\u001b[38;5;130;01m\\\"\u001b[39;00m\u001b[38;5;124m\"\u001b[39m)\n",
      "\u001b[1;31mNameError\u001b[0m: name 'purple' is not defined"
     ]
    }
   ],
   "source": [
    "print(\"You entered:\\\"\" + input() + \"\")"
   ]
  },
  {
   "cell_type": "markdown",
   "metadata": {},
   "source": [
    "Congratulations! You've used your first non-static program! Try running it multiple times to see how it changes \n",
    "depending on what you enter.\n",
    "\n",
    "However, we're missing something important. We can ask for input all we like, but how does someone know what we want \n",
    "them to enter? We could use the `print` function to prompt them, then use `input`, like so:"
   ]
  },
  {
   "cell_type": "code",
   "execution_count": 2,
   "metadata": {},
   "outputs": [
    {
     "name": "stdout",
     "output_type": "stream",
     "text": [
      "What's your favorite color?\n",
      "blue\n"
     ]
    }
   ],
   "source": [
    "print(\"What's your favorite color?\")\n",
    "print(input())"
   ]
  },
  {
   "cell_type": "markdown",
   "metadata": {},
   "source": [
    "This technically works, but it isn't easy to use, since the question is separate from the prompt (in VS Code, though \n",
    "it's still not great in a terminal). It's also kind of clunky, in that it's a lot of code to ask a question and get \n",
    "the answer.\n",
    "\n",
    "Luckily, there's a better way! You can put your own string between the parentheses of `input`, and this will be \n",
    "printed as the prompt for that input. In VS Code, this appears right below the popup."
   ]
  },
  {
   "cell_type": "code",
   "execution_count": null,
   "metadata": {},
   "outputs": [],
   "source": [
    "print(\"Your favorite color is \" + input(\"What's your favorite color?\") + \".\")"
   ]
  },
  {
   "cell_type": "markdown",
   "metadata": {},
   "source": [
    "This looks so much nicer! Well, the output does at least. The code is kind of a mess. It would be really nice if we \n",
    "could move the `input` to a different line like we did in the previous example. \n",
    "\n",
    "Luckily, we can."
   ]
  },
  {
   "cell_type": "markdown",
   "metadata": {},
   "source": [
    "## Variables\n",
    "\n",
    "In come *variables* to solve our problems! If you're not the most comfortable with math, especially algebra, you might \n",
    "have started having horrible flashbacks to the days of \"solve for x\" (which might have been yesterday) when I mentioned \n",
    "variables. \n",
    "\n",
    "Don't worry! Variables in programming aren't the same as they are in math. Kind of the opposite, actually. In math, \n",
    "a variable is used in place of some value, and you usually have to solve the equation for that variable, so you can \n",
    "plug numbers into other variables to get the value of the first variable (wow, that sentence was hard to write).\n",
    "\n",
    "Programming variables are different. In programming, instead of finding the value of the variable, you set the value \n",
    "to be the result of some calculation. Then you can use this in other calculations, and so on. When working with any \n",
    "calculation, the value of the variable is set, and you and/or the computer knows what it is, without having to deal \n",
    "with any of the \"solve for\" nonsense. \n",
    "\n",
    "(The very clever among you may notice that these two things are actually the same, just from different perspectives. \n",
    "This isn't really important though, and is more of historical interest than of any value when actually programming)"
   ]
  },
  {
   "cell_type": "markdown",
   "metadata": {},
   "source": [
    "### Syntax\n",
    "```\n",
    "<variable-name> = <some-value>\n",
    "```\n",
    "\n",
    "Yes, it's literally that simple. All you need to do is write some name, followed by an equals sign (`=`), followed \n",
    "by the value you want the variable to contain.\n",
    "\n",
    "#### Examples"
   ]
  },
  {
   "cell_type": "code",
   "execution_count": null,
   "metadata": {},
   "outputs": [],
   "source": [
    "number = 3  # There now exists a variable called \"number\"\n",
    "\n",
    "# Variables can contain all kinds of data, not just numbers\n",
    "name = \"Your name here\"  \n",
    "\n",
    "# We'll talk about this \"None\" thing in a bit\n",
    "completely_and_utterly_terrible_variable_name = None \n",
    "\n",
    "# Behold, the dreaded \"x\", bent to our whim!\n",
    "x = 0"
   ]
  },
  {
   "cell_type": "markdown",
   "metadata": {},
   "source": [
    "### Usage\n",
    "\n",
    "You'll notice in the previous examples that, yes, we created variables, but they weren't really useful. Sure, \n",
    "it's cool that they exist, but what good are they? Well, in those examples, they're useless. Let's fix that.\n",
    "\n",
    "Variables are at their best when they're used to store the result of some calculation to use at a later time.\n",
    "Sometimes, this is useful so you don't need to recalculate the same thing twice. Another common use is to \n",
    "just make an ugly line shorter by giving some value a meaningful name.\n",
    "\n",
    "You can use a variable simply by referring to it by name. This is the same as using the value it contains \n",
    "directly, except that value can change while the program is running.\n",
    "\n",
    "To illustrate this, let's rewrite that last ugly `input` example, except using variables. "
   ]
  },
  {
   "cell_type": "code",
   "execution_count": null,
   "metadata": {},
   "outputs": [],
   "source": [
    "color = input(\"What's your favorite color?\")\n",
    "print(\"Your favorite color is \" + color + \".\")"
   ]
  },
  {
   "cell_type": "markdown",
   "metadata": {},
   "source": [
    "This looks a lot nicer, doesn't it? It's also a lot clearer how the `input` works, and what it means. Try \n",
    "running it a few times to make sure it runs the same as the old version.\n",
    "\n",
    "Now we can see pretty clearly that value `input` takes is supposed to be a color, since that's what the\n",
    "variable is named. We can also see how it fits into the output because of the value having a name.\n",
    "\n",
    "Try playing around with the example a bit to see exactly how variables work. To remind you of something \n",
    "from the last lesson, programming isn't magic. You always need to refer to a variable using the name \n",
    "you originally gave it, including every character matching the original case. Variables that have different names \n",
    "refer to different things, even if those different things have the same value at that moment. For example, \n",
    "`banana`, `bananA`, and `baNana` all refer to completely different things."
   ]
  },
  {
   "cell_type": "markdown",
   "metadata": {},
   "source": [
    "\n",
    "### Changing variables\n",
    "A variable isn't very much of a variable if it can't vary. So we have to be able to change the value \n",
    "the variable holds. In Python, it's really simple to do this. All you need to do is assign the new \n",
    "value to the variable the same way you created it. That is, it's the same syntax as creating a variable, \n",
    "but you use the same name as before."
   ]
  },
  {
   "cell_type": "code",
   "execution_count": null,
   "metadata": {},
   "outputs": [],
   "source": [
    "word = \"snake\"\n",
    "print(\"Your word is: \" + word)\n",
    "word = input(\"Pick a new word\")\n",
    "print(\"Your word is now: \" + word)"
   ]
  },
  {
   "cell_type": "markdown",
   "metadata": {},
   "source": [
    "See how the value for `word` is different after the second assignment. We *reassigned* the value of it,\n",
    "and every time after we do that, the variable will have the new value, at least until it's changed again."
   ]
  },
  {
   "cell_type": "markdown",
   "metadata": {},
   "source": [
    "### Variable Naming\n",
    "\n",
    "The name you give a variable can be anything that contains letters, numbers, or an underscore(`_`), as long as it \n",
    "doesn't start with a number. So a variable that contains someone's surname in English-speaking countries might be \n",
    "called `last_name`. Python doesn't often use numbers in variable names, and prefers longer, descriptive names \n",
    "(we'll cover the few exceptions in later lessons). Also, generally, unless otherwise specifically required, starting \n",
    "a name with underscores is discouraged.\n",
    "\n",
    "The common naming convention in Python, and one that's highly encouraged, is to use what's called *snake case* when \n",
    "naming things. This means using all words in the name as lower case, and joining them together using underscores if \n",
    "there is more than one word. For example, a variable you, as a human, might read as \"A very long variable name\", would \n",
    "be written as `a_very_long_variable_name`. This is why snake case is commonly stylized as \"snake_case\". This is \n",
    "what we will be using for examples, and what will be expected in exercises.\n",
    "\n",
    "Other common conventions are camelCase and TitleCase. Others exist, but in the author's opinion, most of them \n",
    "are terrible, so they won't even be mentioned. In general, whenever you're programming (in any language), stick to \n",
    "one of the three we've talked about and, just like indentation, be consistent! Other programmers are less likely \n",
    "to hate you (for naming, anyway). Also, keep TitleCase in the back of your mind, as we'll be using that later.\n",
    "\n",
    "Also, be aware that the only hard rule here is what the name can contain. All the rest are just guidelines. \n",
    "However, you should only ignore these guidelines with good reason, which you usually don't have."
   ]
  },
  {
   "cell_type": "markdown",
   "metadata": {},
   "source": [
    "### Compound Assignment\n",
    "\n",
    "Once you've played around with variables a bit, you'll find yourself assigning variables to themselves, modified by a \n",
    "single operator. Something like `i = i + 1`, for some numeric variable `i`. This is so common that Python has a shortcut \n",
    "in the form of *compound assignment operators*. To use these, all you do is combine the operator you want with an `=`, \n",
    "(like this, using `+`: `+=`). This works for all basic arithmetic operators. Using this for the previous example \n",
    "looks like `i += 1`. "
   ]
  },
  {
   "cell_type": "markdown",
   "metadata": {},
   "source": [
    "## Types\n",
    "\n",
    "You might have noticed so far that we've only really used variables that have `string` values. This is because \n",
    "we still need to talk about something that you don't need to specifically deal with too often in Python: *type*.\n",
    "\n",
    "Type is an attribute of a variable that tells you what kind of data it represents. In Python, the basic types \n",
    "are integers, floating points, booleans, strings, and none. We'll cover each of those in a minute, but first \n",
    "let's talk about variable typing in Python in general."
   ]
  },
  {
   "cell_type": "markdown",
   "metadata": {},
   "source": [
    "### Python Typing\n",
    "\n",
    "There are two major categories of typing in the world of programming languages: *static* and *dynamic*. We won't \n",
    "dig too deep into the differences, but the most important distinction is that in languages with static typing, \n",
    "once you declare a variable, that's what type it is. Forever. If you declare a variable to hold an integer, \n",
    "it can never hold a string. This generally requires the programmer to specify what the type of the variable is \n",
    "before they even give it a value. \n",
    "\n",
    "Dynamic typing, on the other hand, allows for a variable to be any type at any time. The same variable can \n",
    "hold an integer, a string, or something more complex at any time (just not at the same time).\n",
    "\n",
    "Since we didn't have to specify any types (and indeed probably didn't know about them) when we created the variables \n",
    "earlier, we can guess that Python is dynamically typed. And that's correct! In Python, variables can have \n",
    "any type at any time.\n",
    "\n",
    "It's important to note that while the type of a variable in Python can change at any time, the behaviour of the \n",
    "type itself is constant. For example, you can square a number, but squaring a string makes no sense, and so \n",
    "Python doesn't allow it. As such, while variables can change type at any time, it's always important to have \n",
    "a good idea of what the type is of the variable you're using. This sounds like a lot, but in practice it's \n",
    "actually not too hard.\n",
    "\n",
    "Anyway, with that explanation out of the way, let's talk about the basic variable types in Python."
   ]
  },
  {
   "cell_type": "markdown",
   "metadata": {},
   "source": [
    "#### Numeric\n",
    "\n",
    "The first type is numeric. Technically, this is split into two categories: *integers* (`int`), and *floating-point* \n",
    "(`float`). Integers are all the counting numbers (1,2,3, 0, -324, etc.). Floating point numbers are approximately \n",
    "decimal numbers (not entirely true, but we won't really talk about that here). Technically speaking, these two \n",
    "number types are distinct, but in practice, you don't usually need to be concerned about the separations. Instead, \n",
    "you can just treat both as though they're just numbers, without worrying whether it's an `int` or a `float`. When \n",
    "we talk about numbers, unless otherwise specified, we'll almost always be referring to `float`s, since they're \n",
    "generally the more useful to the real world, except when counting.\n",
    "\n",
    "A numeric type is represented by using a literal numeric value (e.g. `1`, `475`, `4.57`, `3.1415926535897`). You \n",
    "can also use scientific notation to represent a `float`, by using \"e\" between the number and the exponent."
   ]
  },
  {
   "cell_type": "markdown",
   "metadata": {},
   "source": [
    "#### Boolean\n",
    "\n",
    "A *boolean* (`bool`) is a type that strictly has only two values: `True` or `False`. Despite, and in \n",
    "fact because of the fact it only has two values, `bool` is an incredibly powerful type. So much so that we won't \n",
    "talk about it any more here, and instead we'll spend most of the next lesson talking about what it can do.\n",
    "\n",
    "Boolean types can be represented using the literal values `True` and `False`, to represent their respective value."
   ]
  },
  {
   "cell_type": "markdown",
   "metadata": {},
   "source": [
    "#### String\n",
    "\n",
    "A *string* (`str`) is something we talked about in the intro lesson. A string is a list of characters that \n",
    "come together to (usually) form a block of text. In some languages, there is a separate type for individual \n",
    "characters, but in Python, a character is just a string of length 1.\n",
    "\n",
    "To repeat from the first lesson, you can make a string by putting any characters between opening and closing \n",
    "quotes (`\"`, or `'`). As long as the quotes match, everything between them is a string. \n",
    "\n",
    "Strings are ridiculously useful in general, and there's a ton that you can do with them. However, for \n",
    "robotics, it's most important that you just know they exist, and that you can combine them with one another (called \n",
    "*concatenation*), so that's all we'll cover for now. We'll also talk a little more about them in a moment. But first..."
   ]
  },
  {
   "cell_type": "markdown",
   "metadata": {},
   "source": [
    "### None\n",
    "\n",
    "*none* is a strange type, as it means exactly what the name implies. Instead of being a class of values, it \n",
    "represents the absence of value. It's what's referred to as a *null type*, or a type that literally means \n",
    "nothing. Not that it has no meaning, but that it has a meaning of nothing.\n",
    "\n",
    "You might ask \"how is this possibly useful?\". Right now? It isn't. But we'll see later that it can provide \n",
    "a way to give an answer when every value another type can represent already has some meaning. This is \n",
    "most useful when writing functions, so we'll cover it more there. Just know for now that you can get a value \n",
    "of type *none* by using the literal value `None` (see the first example introducing variables)."
   ]
  },
  {
   "cell_type": "markdown",
   "metadata": {},
   "source": [
    "### Type Casting\n",
    "\n",
    "We talked earlier about `input` and how everything you get from it is a string. But what if you want it to be \n",
    "something else, like an `int`? Well, we could do something very clever and complicated, but we don't know\n",
    "what that would be yet. The alternative is *type casting*. This is a somewhat opaque name for something that \n",
    "basically turns one type into another.\n",
    "\n",
    "The basic way to do this is to write then name of the type, then write the value you want to convert inside \n",
    "parentheses, like so:"
   ]
  },
  {
   "cell_type": "code",
   "execution_count": 22,
   "metadata": {},
   "outputs": [
    {
     "name": "stdout",
     "output_type": "stream",
     "text": [
      "4\n",
      "<class 'str'>\n",
      "4\n",
      "<class 'int'>\n"
     ]
    }
   ],
   "source": [
    "text_number = \"4\"\n",
    "print(text_number)\n",
    "print(type(text_number)) # The `type` function just tells us the type of the value\n",
    "\n",
    "# The cast\n",
    "number = int(text_number)\n",
    "print(number)\n",
    "print(type(number))"
   ]
  },
  {
   "cell_type": "markdown",
   "metadata": {},
   "source": [
    "You can see here that by casting `text_number` to `int`, and the `\"4\"` in `text_number` gets converted into an integer.\n",
    "Note that this doesn't actually affect the value of `text_number` it just creates a new value that you can do \n",
    "whatever you like with. \n",
    "\n",
    "There are a few complexities to casting for each type. A few are listed below for each:\n",
    "#### `int`\n",
    "- From strings, if the text isn't only a positive or negative integer, it will crash\n",
    "- From `float`s, it will round the number down\n",
    "- From `bool`, it will convert to a 0 or a 1, for `False` and `True` respectively\n",
    "\n",
    "#### `float`\n",
    "- From `int`s, it does effectively nothing\n",
    "- From strings, if the text isn't only an integer, decimal, or scientific notation, it will crash\n",
    "- From `bool`, it will convert to 0.0, or 1.0, for `False`, and `True` respectively\n",
    "\n",
    "#### `str`\n",
    "Literally everything can be cast to a string (admittedly to sometimes unexpected results)\n",
    "\n",
    "#### `bool`\n",
    "- From `int`s and `float`s, it will convert 0 to `False`, and everything else to `True`\n",
    "- From strings, it will convert the empty string (the literal value `\"\"`) to `False`; everything else is `True`\n",
    "- From `None`, it will convert to `False`\n",
    "\n",
    "Any value cast to `None`, unless otherwise specified, will cause the program to crash.\n",
    "\n",
    "There are some more esoteric rules, but for our purposes, these rules are comprehensive enough. Just remember that \n",
    "type casting is not magic (even if it seems like it sometimes), and doesn't know what you \"mean\". It can only do \n",
    "what you tell it to do."
   ]
  },
  {
   "cell_type": "markdown",
   "metadata": {},
   "source": [
    "# Exercises\n",
    "\n",
    "1. Write a program that asks for input to the question \"What is your name?\", then print the result. \n",
    "Write this program on a single line."
   ]
  },
  {
   "cell_type": "code",
   "execution_count": 3,
   "metadata": {},
   "outputs": [
    {
     "name": "stdout",
     "output_type": "stream",
     "text": [
      "Your name is Jeff.\n"
     ]
    }
   ],
   "source": [
    "print(\"Your name is \" + input(\"What's your name?\") + \".\")"
   ]
  },
  {
   "cell_type": "markdown",
   "metadata": {},
   "source": [
    "2. Write the same program as above, but split up using variables."
   ]
  },
  {
   "cell_type": "code",
   "execution_count": 4,
   "metadata": {},
   "outputs": [
    {
     "name": "stdout",
     "output_type": "stream",
     "text": [
      "Your name is Jeff.\n"
     ]
    }
   ],
   "source": [
    "name = input (\"What is your name?\")\n",
    "print(\"Your name is \" + name + \".\")"
   ]
  },
  {
   "cell_type": "markdown",
   "metadata": {},
   "source": [
    "3. Which of the following are valid variable names? Indicate the valid names only."
   ]
  },
  {
   "cell_type": "markdown",
   "metadata": {},
   "source": [
    "- number *\n",
    "- numb3r *\n",
    "- string *\n",
    "- $tring\n",
    "- _dog *\n",
    "- dog-and-cat\n",
    "- d_o_g *\n",
    "- variable name\n",
    "- a12345 *\n",
    "- 3_french_hens *\n",
    "- _ *"
   ]
  },
  {
   "cell_type": "markdown",
   "metadata": {},
   "source": [
    "4. List the compound assignment operator associated with each operator.\n",
    "- Addition (`+`) +=\n",
    "- Subtraction (`-`) -=\n",
    "- Multiplication (`*`) *=\n",
    "- Division (`/`) /=\n",
    "- Modulo (`%`) %=\n",
    "- Exponentiation (`**`) **="
   ]
  },
  {
   "cell_type": "markdown",
   "metadata": {},
   "source": [
    "4. Give at 3 examples of each of the following types (or as many as possible, if there are less)."
   ]
  },
  {
   "cell_type": "markdown",
   "metadata": {},
   "source": [
    "- Numeric"
   ]
  },
  {
   "cell_type": "markdown",
   "metadata": {},
   "source": [
    "- Boolean"
   ]
  },
  {
   "cell_type": "markdown",
   "metadata": {},
   "source": [
    "- String"
   ]
  },
  {
   "cell_type": "markdown",
   "metadata": {},
   "source": [
    "- None"
   ]
  },
  {
   "cell_type": "markdown",
   "metadata": {},
   "source": [
    "5. What is type casting? Give an example, if possible."
   ]
  },
  {
   "cell_type": "markdown",
   "metadata": {},
   "source": [
    "Turns one type into another. "
   ]
  },
  {
   "cell_type": "markdown",
   "metadata": {},
   "source": [
    "6. Add a type cast to each of the following variables so that each statement prints the expected value.\n",
    "Don't modify the print statements. Only use type casting to get the expected result."
   ]
  },
  {
   "cell_type": "code",
   "execution_count": 23,
   "metadata": {},
   "outputs": [
    {
     "name": "stdout",
     "output_type": "stream",
     "text": [
      "6.25\n",
      "2.5\n",
      "2\n",
      "4 score and 7 years ago...\n",
      "47\n",
      "None shall pass!\n"
     ]
    },
    {
     "data": {
      "text/plain": [
       "'None'"
      ]
     },
     "execution_count": 23,
     "metadata": {},
     "output_type": "execute_result"
    }
   ],
   "source": [
    "# convert to: floating-point\n",
    "# expected result: 6.25\n",
    "number = float(\"2.5\")\n",
    "print(number ** 2)\n",
    "print(float(number))\n",
    "\n",
    "# convert to: integer\n",
    "# expected result: 2\n",
    "number_to_round_down = int(2.718)\n",
    "print(int(number_to_round_down))\n",
    "\n",
    "# convert to: string\n",
    "# expected result: 4 score and 7 years ago...\n",
    "fragment1 = str(4)\n",
    "fragment2 = str(7)\n",
    "print(fragment1 + \" score and \" + fragment2 + \" years ago...\")\n",
    "print(str(fragment1 + fragment2))\n",
    "\n",
    "# convert to: string\n",
    "# expected result None shall pass!\n",
    "who = str(None)\n",
    "print(who + \" shall pass!\")\n",
    "print(str(who))"
   ]
  },
  {
   "cell_type": "markdown",
   "metadata": {},
   "source": [
    "6. Write a program that gets a number from the user, then prints out the square of that number. \n",
    "Assume that the user will enter a valid number, and nothing else."
   ]
  },
  {
   "cell_type": "code",
   "execution_count": 17,
   "metadata": {},
   "outputs": [
    {
     "name": "stdout",
     "output_type": "stream",
     "text": [
      "36\n"
     ]
    }
   ],
   "source": [
    "number = input(\"valid_number\")\n",
    "print(int(number)**2)\n"
   ]
  }
 ],
 "metadata": {
  "kernelspec": {
   "display_name": "Python 3.10.7 64-bit",
   "language": "python",
   "name": "python3"
  },
  "language_info": {
   "codemirror_mode": {
    "name": "ipython",
    "version": 3
   },
   "file_extension": ".py",
   "mimetype": "text/x-python",
   "name": "python",
   "nbconvert_exporter": "python",
   "pygments_lexer": "ipython3",
   "version": "3.10.7"
  },
  "orig_nbformat": 4,
  "vscode": {
   "interpreter": {
    "hash": "afb734500600fd355917ca529030176ea0ca205570884b88f2f6f7d791fd3fbe"
   }
  }
 },
 "nbformat": 4,
 "nbformat_minor": 2
}
