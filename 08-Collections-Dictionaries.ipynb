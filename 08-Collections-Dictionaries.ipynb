{
 "cells": [
  {
   "cell_type": "markdown",
   "metadata": {},
   "source": [
    "# Collections: Dictionaries\n",
    "\n",
    "Lists are all well and good, and they can technically meet the demands of any collection, given enough time and patience,\n",
    "but there are many forms of collections out there that serve different purposes and are specialized to \n",
    "some degree. In this lesson, we'll look at another collection that's extremely common in Python: dictionaries."
   ]
  },
  {
   "cell_type": "markdown",
   "metadata": {},
   "source": [
    "### Dictionaries\n",
    "\n",
    "Dictionaries, often called maps in non-Python contexts (for mathematical - not historical - reasons), are a \n",
    "slightly more generalized form of collection, implementing the most general form where an element has a unique \n",
    "location, and a way to access that location through some identifier value.\n",
    "\n",
    "Dictionaries are comprised of a set of *keys-value pairs* where the *keys* are all unique values, and each key has a \n",
    "value associated with it, though the value doesn't have to be unique. This is similar to real-life dictionaries where \n",
    "the keys are all of the words, and the values are the definitions of those words and any other information that particular \n",
    "dictionary might provide.\n",
    "\n",
    "Where dictionaries are unique though, is that the keys can be almost any kind of data (we won't get into the rules of \n",
    "that here), and the values can be literally anything that Python has to offer. All that needs to be true is that each \n",
    "key is unique. This means that keys can be strings, numbers (though usually just integers), or more complex types we'll \n",
    "come across later. Just about the only thing you can't use as a key is collections, which makes sense, since collections \n",
    "can change, and keys can't be allowed to change, or they'll be impossible to track."
   ]
  },
  {
   "cell_type": "markdown",
   "metadata": {},
   "source": [
    "#### Creating a Dictionary\n",
    "\n",
    "Creating a dictionary is almost as simple as creating a list. There are two major differences: 1) you use curly braces (`{}`)\n",
    "instead of square brackets (`[]`), and 2) you have to provide a key, since it's not implied like it is with lists. It looks \n",
    "something like this."
   ]
  },
  {
   "cell_type": "code",
   "execution_count": null,
   "metadata": {},
   "outputs": [],
   "source": [
    "example_dict = {\n",
    "    \"name\": \"Andrew\",\n",
    "    \"age\": 17,\n",
    "    \"grade\": 11,\n",
    "    \"enrolled\": True\n",
    "}"
   ]
  },
  {
   "cell_type": "markdown",
   "metadata": {},
   "source": [
    "For the record, you don't need to split the entries across multiple lines like this, but it's often useful for making \n",
    "it more readable, which is extremely important in programming. `{\"name\": \"Andrew\", \"age\": 17, \"grade\": 11, \"enrolled\": True}` \n",
    "is also perfectly valid, though considerably less readable. Now imagine this on the scale of dozens or even hundreds of \n",
    "manual entires. That would be unreadable!\n",
    "\n",
    "Also, remember that we said that any type could be keys, not just strings. That said, most keys are going to be strings, \n",
    "so that's largely how dictionaries will be used in this lesson."
   ]
  },
  {
   "cell_type": "markdown",
   "metadata": {},
   "source": [
    "#### Accessing Elements\n",
    "\n",
    "```python\n",
    "<dict-variable>[<key>]\n",
    "```\n",
    "\n",
    "Accessing elements of a dictionary is very similar to accessing elements in lists: you write the key between square \n",
    "brackets (`[]`). In the list, the \"key\" is just the index, whereas for a dictionary, it's any value that exists as a \n",
    "key in your dictionary.\n",
    "\n",
    "Note that if you try to access an element doesn't exist, you'll get an error, just like accessing an invalid list index."
   ]
  },
  {
   "cell_type": "code",
   "execution_count": null,
   "metadata": {},
   "outputs": [],
   "source": [
    "print(example_dict[\"name\"])"
   ]
  },
  {
   "cell_type": "markdown",
   "metadata": {},
   "source": [
    "#### Adding/Modifying Elements\n",
    "\n",
    "```python\n",
    "<dict-variable>[<key>] = <some-value>\n",
    "```\n",
    "\n",
    "Adding elements to a dictionary is quite a bit simpler than adding elements to lists. Instead of needing to call any \n",
    "special functions, you can just assign the value to a key like the key is already there"
   ]
  },
  {
   "cell_type": "code",
   "execution_count": null,
   "metadata": {},
   "outputs": [],
   "source": [
    "# \"name\" already exists\n",
    "example_dict[\"name\"] = \"Andrei\"\n",
    "\n",
    "# \"gpa\" doesn't already exist\n",
    "example_dict[\"gpa\"] = \"3.62\"\n",
    "\n",
    "print(example_dict)\n"
   ]
  },
  {
   "cell_type": "markdown",
   "metadata": {},
   "source": [
    "After a while of adding keys, especially when you're generating the keys based off of some unknown information, \n",
    "you might not know exactly what the keys of a dictionary are. You can get a list of the keys in a dictionary by \n",
    "calling the dictionary's `keys` method, like so:"
   ]
  },
  {
   "cell_type": "code",
   "execution_count": 10,
   "metadata": {},
   "outputs": [
    {
     "ename": "NameError",
     "evalue": "name 'example_dict' is not defined",
     "output_type": "error",
     "traceback": [
      "\u001b[1;31m---------------------------------------------------------------------------\u001b[0m",
      "\u001b[1;31mNameError\u001b[0m                                 Traceback (most recent call last)",
      "Cell \u001b[1;32mIn [10], line 1\u001b[0m\n\u001b[1;32m----> 1\u001b[0m \u001b[39mprint\u001b[39m(example_dict\u001b[39m.\u001b[39mkeys())\n",
      "\u001b[1;31mNameError\u001b[0m: name 'example_dict' is not defined"
     ]
    }
   ],
   "source": [
    "print(example_dict.keys())"
   ]
  },
  {
   "cell_type": "markdown",
   "metadata": {},
   "source": [
    "You'll see that this looks a little different from other times we've printed lists, and that's because this isn't \n",
    "technically a list. However, we don't need to worry about what it actually is, since it behaves almost exactly \n",
    "like a list."
   ]
  },
  {
   "cell_type": "code",
   "execution_count": 12,
   "metadata": {},
   "outputs": [
    {
     "ename": "NameError",
     "evalue": "name 'example_dict' is not defined",
     "output_type": "error",
     "traceback": [
      "\u001b[1;31m---------------------------------------------------------------------------\u001b[0m",
      "\u001b[1;31mNameError\u001b[0m                                 Traceback (most recent call last)",
      "Cell \u001b[1;32mIn [12], line 1\u001b[0m\n\u001b[1;32m----> 1\u001b[0m \u001b[39mfor\u001b[39;00m key \u001b[39min\u001b[39;00m example_dict\u001b[39m.\u001b[39mkeys():\n\u001b[0;32m      2\u001b[0m     \u001b[39mprint\u001b[39m(key)\n",
      "\u001b[1;31mNameError\u001b[0m: name 'example_dict' is not defined"
     ]
    }
   ],
   "source": [
    "for key in example_dict.keys():\n",
    "    print(key)"
   ]
  },
  {
   "cell_type": "markdown",
   "metadata": {},
   "source": [
    "#### Removing Elements \n",
    "\n",
    "Removing elements from a dictionary is pretty similar to lists. Namely, use call the `pop` method, and give it the key \n",
    "you want to remove. There's no `remove` method, since it would basically do the same thing as `pop` in dictionaries.\n",
    "\n",
    "`pop` also has the added benefit that it returns the value associated with the key you just deleted."
   ]
  },
  {
   "cell_type": "code",
   "execution_count": null,
   "metadata": {},
   "outputs": [],
   "source": [
    "# Add a dummy element\n",
    "example_dict[\"hair_color\"] = \"blue\"\n",
    "print(example_dict.keys())\n",
    "\n",
    "# Wait, we didn't want that\n",
    "deleted_value = example_dict.pop(\"hair_color\")\n",
    "print(deleted_value)\n",
    "print(example_dict.keys())"
   ]
  },
  {
   "cell_type": "markdown",
   "metadata": {},
   "source": [
    "Also, just like lists, you can empty a dictionary by calling the `clear` method."
   ]
  },
  {
   "cell_type": "code",
   "execution_count": null,
   "metadata": {},
   "outputs": [],
   "source": [
    "# `copy` does exactly what is sounds like it does.\n",
    "# In this case, it's just so we don't destroy example_dict for other code snippets\n",
    "example_dict_copy = example_dict.copy()\n",
    "print(example_dict_copy)\n",
    "\n",
    "example_dict_copy.clear()\n",
    "print(example_dict_copy)"
   ]
  },
  {
   "cell_type": "markdown",
   "metadata": {},
   "source": [
    "#### Testing if a Key Exists: `in`\n",
    "\n",
    "It's really common when using a dictionary created from dynamic data to check if a certain key exists in \n",
    "that dictionary. One way to do this is to do something like this:"
   ]
  },
  {
   "cell_type": "code",
   "execution_count": null,
   "metadata": {},
   "outputs": [],
   "source": [
    "# test if example_dict has a key of \"school\"\n",
    "school_exists = False\n",
    "for key in example_dict.keys():\n",
    "    if key == \"school\":\n",
    "        school_exists = True\n",
    "\n",
    "if school_exists:\n",
    "    print(\"They go to {}.\".format(example_dict[\"school\"]))\n",
    "else:\n",
    "    print(\"School unknown\")"
   ]
  },
  {
   "cell_type": "markdown",
   "metadata": {},
   "source": [
    "Technically this works, but it's a lot of code for what seems like it should be simple. Instead you can use a \n",
    "keyword that we've already seen, but in a slightly different context: `in`. `in` returns `True` if the value on \n",
    "the left is an existing key in the dictionary on the right. Here's the same example, but using the `in` approach."
   ]
  },
  {
   "cell_type": "code",
   "execution_count": null,
   "metadata": {},
   "outputs": [],
   "source": [
    "if \"school\" in example_dict:\n",
    "    print(\"They go to {}.\".format(example_dict[\"school\"]))\n",
    "else:\n",
    "    print(\"School unknown\")"
   ]
  },
  {
   "cell_type": "markdown",
   "metadata": {},
   "source": [
    "This reads a lot more naturally than the first version, and it's even more efficient! We won't get into the details, \n",
    "but there are usually more efficient ways to find something in a collection than searching through a list.\n",
    "\n",
    "For what it's worth, you can also use `in` for lists to see if the value on the left is an element of the list on \n",
    "the right. That said, this isn't something you want to do very often with lists, as it's a fairly slow operation, \n",
    "since it has to search the whole thing. Again, we won't get into it here, but if you know you need to search \n",
    "for something there's usually a better option than a list."
   ]
  },
  {
   "cell_type": "markdown",
   "metadata": {},
   "source": [
    "### Iterating with Dictionaries\n",
    "\n",
    "Just like lists, you can iterate over dictionaries. However, unlike lists, you can't just iterate over the values, since \n",
    "without the associated key, a given value doesn't have any meaning. (This is because lists elements have the context \n",
    "of position, but that context isn't necessarily implied by dictionaries.) Instead, when we iterate over the dictionary, \n",
    "we get the keys, which we can then use to access the values."
   ]
  },
  {
   "cell_type": "code",
   "execution_count": 13,
   "metadata": {},
   "outputs": [
    {
     "ename": "NameError",
     "evalue": "name 'example_dict' is not defined",
     "output_type": "error",
     "traceback": [
      "\u001b[1;31m---------------------------------------------------------------------------\u001b[0m",
      "\u001b[1;31mNameError\u001b[0m                                 Traceback (most recent call last)",
      "Cell \u001b[1;32mIn [13], line 1\u001b[0m\n\u001b[1;32m----> 1\u001b[0m \u001b[39mfor\u001b[39;00m k \u001b[39min\u001b[39;00m example_dict:\n\u001b[0;32m      2\u001b[0m     \u001b[39mprint\u001b[39m(\u001b[39m\"\u001b[39m\u001b[39mexample_dict[\u001b[39m\u001b[39m{}\u001b[39;00m\u001b[39m] = \u001b[39m\u001b[39m{}\u001b[39;00m\u001b[39m\"\u001b[39m\u001b[39m.\u001b[39mformat(k, example_dict[k]))\n",
      "\u001b[1;31mNameError\u001b[0m: name 'example_dict' is not defined"
     ]
    }
   ],
   "source": [
    "for k in example_dict:\n",
    "    print(\"example_dict[{}] = {}\".format(k, example_dict[k]))"
   ]
  },
  {
   "cell_type": "markdown",
   "metadata": {},
   "source": [
    "Sometimes this method isn't very convenient. Luckily, dictionaries have their own version of `enumerate`: `items`. This \n",
    "work similarly to `enumerate`, in that it gives you the key and the value, and you can do what you like with that info."
   ]
  },
  {
   "cell_type": "code",
   "execution_count": null,
   "metadata": {},
   "outputs": [],
   "source": [
    "# The same code as before, but this time using items\n",
    "for k, v in example_dict.items():\n",
    "    print(\"example_dict[{}] = {}\".format(k, v))"
   ]
  },
  {
   "cell_type": "markdown",
   "metadata": {},
   "source": [
    "Now, you might wonder why we don't do this all the time. This is because we don't always need the values, or at least \n",
    "all of them, so any time and effort spent looking them up would be wasted. There's no need to do work that does nothing, \n",
    "so by default, we just don't do it. However, `items` is there if you need it."
   ]
  },
  {
   "cell_type": "markdown",
   "metadata": {},
   "source": [
    "# Exercises"
   ]
  },
  {
   "cell_type": "markdown",
   "metadata": {},
   "source": [
    "1. What is a dictionary? How does it differ from a list? What are the similarities to lists?"
   ]
  },
  {
   "cell_type": "markdown",
   "metadata": {},
   "source": [
    "A collection where you can access an element's unique location through some identifier value."
   ]
  },
  {
   "cell_type": "markdown",
   "metadata": {},
   "source": [
    "2. Make a dictionary that describes the car of your choice. Make sure it has the following fields: \n",
    "make, model, year, color, power type (gas, electric, hybrid). We'll use this in other exercises.\n",
    "\n",
    "Make sure the following snippet prints \"Valid\" after you add your dictionary. "
   ]
  },
  {
   "cell_type": "code",
   "execution_count": 4,
   "metadata": {},
   "outputs": [
    {
     "name": "stdout",
     "output_type": "stream",
     "text": [
      "Not valid\n"
     ]
    }
   ],
   "source": [
    "# Write your dictionary here\n",
    "my_car = {\"make\" : \"minicooper\",\n",
    "    \"model\" : \"hatchback\",\n",
    "    \"year\" : \"2002\",\n",
    "    \"color\" : \"red\",\n",
    "    \"power type\" : \"gas\"}\n",
    "\n",
    "# This checking code uses something called a \"list comprehension\". This is a good way to build \n",
    "# lists from other lists. They're a handy little tool, but we won't be covering them in these lessons. \n",
    "# However, you're encouraged to do your own research on them.\n",
    "if all(key in my_car for key in [\"make\", \"model\", \"year\", \"color\", \"power_type\"]):\n",
    "    print(\"Valid\")\n",
    "else:\n",
    "    print(\"Not valid\")"
   ]
  },
  {
   "cell_type": "markdown",
   "metadata": {},
   "source": [
    "3. Add a new key-value pair to your dictionary, with the fuel efficiency of the car (or `None`, if electric)."
   ]
  },
  {
   "cell_type": "code",
   "execution_count": 1,
   "metadata": {},
   "outputs": [
    {
     "ename": "NameError",
     "evalue": "name 'my_car' is not defined",
     "output_type": "error",
     "traceback": [
      "\u001b[1;31m---------------------------------------------------------------------------\u001b[0m",
      "\u001b[1;31mNameError\u001b[0m                                 Traceback (most recent call last)",
      "Cell \u001b[1;32mIn [1], line 1\u001b[0m\n\u001b[1;32m----> 1\u001b[0m my_car[\u001b[39m\"\u001b[39m\u001b[39mfuel efficiency\u001b[39m\u001b[39m\"\u001b[39m] \u001b[39m=\u001b[39m \u001b[39m\"\u001b[39m\u001b[39m25mpg\u001b[39m\u001b[39m\"\u001b[39m\n\u001b[0;32m      2\u001b[0m \u001b[39mprint\u001b[39m(my_car)\n",
      "\u001b[1;31mNameError\u001b[0m: name 'my_car' is not defined"
     ]
    }
   ],
   "source": [
    "my_car[\"fuel efficiency\"] = \"25mpg\"\n",
    "print(my_car)"
   ]
  },
  {
   "cell_type": "markdown",
   "metadata": {},
   "source": [
    "4. Print out the model of your car from the dictionary."
   ]
  },
  {
   "cell_type": "code",
   "execution_count": 7,
   "metadata": {},
   "outputs": [
    {
     "name": "stdout",
     "output_type": "stream",
     "text": [
      "hatchback\n"
     ]
    }
   ],
   "source": [
    "print(my_car[\"model\"])"
   ]
  },
  {
   "cell_type": "markdown",
   "metadata": {},
   "source": [
    "5. Change the year of your car to the next model year (don't worry if results in a car that doesn't actually exist)."
   ]
  },
  {
   "cell_type": "code",
   "execution_count": 8,
   "metadata": {},
   "outputs": [],
   "source": [
    "my_car[\"year\"] = \"2003\""
   ]
  },
  {
   "cell_type": "markdown",
   "metadata": {},
   "source": [
    "6. Verify that the key you added previously is was actually added. Do so in any way you see fit, without printing \n",
    "out the entire dictionary."
   ]
  },
  {
   "cell_type": "code",
   "execution_count": 9,
   "metadata": {},
   "outputs": [
    {
     "name": "stdout",
     "output_type": "stream",
     "text": [
      "2003\n"
     ]
    }
   ],
   "source": [
    "print(my_car[\"year\"])"
   ]
  },
  {
   "cell_type": "markdown",
   "metadata": {},
   "source": [
    "7. Print out each of the key-value pairs in your dictionary. Check if the car is electric, and if it isn't, don't \n",
    "print out the fuel efficiency."
   ]
  },
  {
   "cell_type": "code",
   "execution_count": 15,
   "metadata": {},
   "outputs": [
    {
     "name": "stdout",
     "output_type": "stream",
     "text": [
      "{'make': 'minicooper', 'model': 'hatchback', 'year': '2003', 'color': 'red', 'power type': 'gas'}\n"
     ]
    }
   ],
   "source": [
    "print(my_car)"
   ]
  }
 ],
 "metadata": {
  "kernelspec": {
   "display_name": "Python 3.10.7 64-bit",
   "language": "python",
   "name": "python3"
  },
  "language_info": {
   "codemirror_mode": {
    "name": "ipython",
    "version": 3
   },
   "file_extension": ".py",
   "mimetype": "text/x-python",
   "name": "python",
   "nbconvert_exporter": "python",
   "pygments_lexer": "ipython3",
   "version": "3.10.7"
  },
  "orig_nbformat": 4,
  "vscode": {
   "interpreter": {
    "hash": "afb734500600fd355917ca529030176ea0ca205570884b88f2f6f7d791fd3fbe"
   }
  }
 },
 "nbformat": 4,
 "nbformat_minor": 2
}
